{
 "cells": [
  {
   "cell_type": "code",
   "execution_count": 1,
   "id": "58ac57ac-2ee6-4094-9e69-f7bafd250acf",
   "metadata": {},
   "outputs": [],
   "source": [
    "# Veri işleme ve analiz için\n",
    "import pandas as pd\n",
    "import numpy as np\n",
    "\n",
    "# Veri ön işleme için\n",
    "from sklearn.model_selection import train_test_split\n",
    "from sklearn.impute import SimpleImputer\n",
    "from sklearn.metrics import classification_report, roc_auc_score, f1_score\n",
    "\n",
    "# Sınıf dengesizliği için\n",
    "from imblearn.over_sampling import SMOTE\n",
    "\n",
    "# Derin öğrenme için\n",
    "from keras.models import Sequential\n",
    "from keras.layers import Dense, Dropout\n",
    "from keras.callbacks import EarlyStopping\n",
    "from keras import optimizers\n",
    "\n",
    "# Ölçekleme için\n",
    "from sklearn.preprocessing import StandardScaler\n",
    "\n",
    "# Uyarıları görmezden gelme\n",
    "import warnings\n",
    "warnings.filterwarnings('ignore')\n"
   ]
  },
  {
   "cell_type": "code",
   "execution_count": 2,
   "id": "ccc161f1-c800-4939-9dcb-c19120816632",
   "metadata": {},
   "outputs": [
    {
     "name": "stdout",
     "output_type": "stream",
     "text": [
      "Eğitim verisi ilk 5 satır:\n",
      "      id  value_increased  Ability  Potential Positions Caps / Goals   Foot  \\\n",
      "0  74044            False     46.0        NaN       AMC          NaN  Right   \n",
      "1  83969            False     48.0        NaN        GK          NaN  Right   \n",
      "2  94664            False     58.0        NaN     DL DC          NaN   Left   \n",
      "3  46208             True     38.0        NaN        DC          NaN  Right   \n",
      "4  77969            False     47.0        NaN        GK          NaN  Right   \n",
      "\n",
      "   Height Weight  Aerial Reach  ...  Dribbling  Finishing  Free Kick Taking  \\\n",
      "0  178 CM  72 KG           NaN  ...       45.0       35.0              35.0   \n",
      "1  185 CM  82 KG          55.0  ...        NaN        NaN              35.0   \n",
      "2  185 CM  80 KG           NaN  ...       40.0       30.0              15.0   \n",
      "3  185 CM  74 KG           NaN  ...       15.0       10.0              20.0   \n",
      "4  193 CM  73 KG          35.0  ...        NaN        NaN              40.0   \n",
      "\n",
      "   Heading  Long Shots  Long Throws  Marking  Penalty Taking  Tackling  \\\n",
      "0     30.0        35.0         40.0     40.0            25.0      45.0   \n",
      "1      NaN         NaN          NaN      NaN            15.0       NaN   \n",
      "2     65.0        35.0         50.0     55.0            55.0      70.0   \n",
      "3     70.0        10.0         35.0     70.0            20.0      55.0   \n",
      "4      NaN         NaN          NaN      NaN            15.0       NaN   \n",
      "\n",
      "   Technique  \n",
      "0       50.0  \n",
      "1       55.0  \n",
      "2       45.0  \n",
      "3       10.0  \n",
      "4       15.0  \n",
      "\n",
      "[5 rows x 56 columns]\n"
     ]
    }
   ],
   "source": [
    "# Verileri yükleyelim\n",
    "train_data = pd.read_csv('./train.csv')\n",
    "test_data = pd.read_csv('./test.csv')\n",
    "\n",
    "# İlk birkaç satırı görelim\n",
    "print(\"Eğitim verisi ilk 5 satır:\")\n",
    "print(train_data.head())\n"
   ]
  },
  {
   "cell_type": "code",
   "execution_count": 3,
   "id": "9c58aa8a-574c-463b-98ed-d5307d85586e",
   "metadata": {},
   "outputs": [
    {
     "name": "stdout",
     "output_type": "stream",
     "text": [
      "\n",
      "'value_increased' sütunu:\n",
      "value_increased\n",
      "0    395\n",
      "1     70\n",
      "Name: count, dtype: int64\n"
     ]
    }
   ],
   "source": [
    "# 'value_increased' sütununu 1 ve 0 olarak değiştirelim\n",
    "train_data['value_increased'] = train_data['value_increased'].apply(lambda x: 1 if x == True else 0)\n",
    "\n",
    "# Değişikliği kontrol edelim\n",
    "print(\"\\n'value_increased' sütunu:\")\n",
    "print(train_data['value_increased'].value_counts())\n"
   ]
  },
  {
   "cell_type": "code",
   "execution_count": 4,
   "id": "0cb17b97-b3ab-44af-98eb-240a0db87991",
   "metadata": {},
   "outputs": [],
   "source": [
    "# 'Potential' sütununu silelim\n",
    "train_data.drop('Potential', axis=1, inplace=True)\n",
    "test_data.drop('Potential', axis=1, inplace=True)\n"
   ]
  },
  {
   "cell_type": "code",
   "execution_count": 5,
   "id": "11ea5a65-079e-48d8-8e23-a17cce45c8dc",
   "metadata": {},
   "outputs": [],
   "source": [
    "# Milli takımda oynamışsa 1, oynamamışsa 0 yapalım\n",
    "train_data['Caps / Goals'] = train_data['Caps / Goals'].apply(lambda x: 1 if not pd.isna(x) else 0)\n",
    "test_data['Caps / Goals'] = test_data['Caps / Goals'].apply(lambda x: 1 if not pd.isna(x) else 0)\n"
   ]
  },
  {
   "cell_type": "code",
   "execution_count": 6,
   "id": "dd1ff374-102b-4f79-baca-629c35e58861",
   "metadata": {},
   "outputs": [],
   "source": [
    "# 'Right' için 1, 'Left' için 0 atayalım\n",
    "train_data['Foot'] = train_data['Foot'].map({'Right': 1, 'Left': 0})\n",
    "test_data['Foot'] = test_data['Foot'].map({'Right': 1, 'Left': 0})\n"
   ]
  },
  {
   "cell_type": "code",
   "execution_count": 7,
   "id": "698a75de-04d9-4d8a-b49a-d125873310de",
   "metadata": {},
   "outputs": [],
   "source": [
    "# 'Height' sütunundan ' CM' ifadesini kaldırıp sayısala dönüştürelim\n",
    "train_data['Height'] = train_data['Height'].str.replace(' CM', '').astype(float)\n",
    "test_data['Height'] = test_data['Height'].str.replace(' CM', '').astype(float)\n",
    "\n",
    "# 'Weight' sütunundan ' KG' ifadesini kaldırıp sayısala dönüştürelim\n",
    "train_data['Weight'] = train_data['Weight'].str.replace(' KG', '').astype(float)\n",
    "test_data['Weight'] = test_data['Weight'].str.replace(' KG', '').astype(float)\n"
   ]
  },
  {
   "cell_type": "code",
   "execution_count": 8,
   "id": "14d32772-0830-4e18-ac45-46ebbf64994c",
   "metadata": {},
   "outputs": [],
   "source": [
    "# 'Is_GK' sütununu oluşturalım\n",
    "train_data['Is_GK'] = train_data['Positions'].apply(lambda x: 1 if 'GK' in x.split() else 0)\n",
    "test_data['Is_GK'] = test_data['Positions'].apply(lambda x: 1 if 'GK' in x.split() else 0)\n",
    "\n",
    "# Kaleci özellikleri\n",
    "goalkeeper_attributes = ['Aerial Reach', 'Command of Area', 'Communication', 'Eccentricity',\n",
    "                         'Handling', 'Kicking', 'One on Ones', 'Punching (Tendency)', 'Reflexes',\n",
    "                         'Rushing Out (Tendency)', 'Throwing']\n",
    "\n",
    "# Kaleci olmayanlar için bu özellikleri 0 yapalım\n",
    "for attr in goalkeeper_attributes:\n",
    "    train_data.loc[train_data['Is_GK'] == 0, attr] = 0\n",
    "    test_data.loc[test_data['Is_GK'] == 0, attr] = 0\n",
    "\n",
    "# Kaleciler için eksik değerleri ortalama ile dolduralım\n",
    "for attr in goalkeeper_attributes:\n",
    "    mean_value = train_data.loc[train_data['Is_GK'] == 1, attr].mean()\n",
    "    train_data.loc[train_data['Is_GK'] == 1, attr] = train_data.loc[train_data['Is_GK'] == 1, attr].fillna(mean_value)\n",
    "    test_data.loc[test_data['Is_GK'] == 1, attr] = test_data.loc[test_data['Is_GK'] == 1, attr].fillna(mean_value)\n"
   ]
  },
  {
   "cell_type": "code",
   "execution_count": 12,
   "id": "3410cf1a-7849-43ca-a5c6-3e46c725157b",
   "metadata": {},
   "outputs": [
    {
     "name": "stdout",
     "output_type": "stream",
     "text": [
      "\n",
      "Benzersiz Pozisyonlar: ['AMC', 'AML', 'AMR', 'DC', 'DL', 'DM', 'DR', 'GK', 'MC', 'ML', 'MR', 'ST', 'WBL', 'WBR']\n"
     ]
    }
   ],
   "source": [
    "# Benzersiz pozisyonları elde edelim\n",
    "all_positions = pd.concat([train_data['Positions'], test_data['Positions']])\n",
    "unique_positions = set()\n",
    "for positions in all_positions.dropna():\n",
    "    for pos in positions.split():\n",
    "        unique_positions.add(pos)\n",
    "unique_positions = sorted(unique_positions)\n",
    "print(\"\\nBenzersiz Pozisyonlar:\", unique_positions)\n",
    "\n",
    "# Pozisyonları kodlayalım\n",
    "def encode_positions(data, position_list):\n",
    "    for pos in position_list:\n",
    "        data[f'Position_{pos}'] = data['Positions'].apply(lambda x: 1 if pos in x.split() else 0)\n",
    "    return data\n",
    "\n",
    "train_data = encode_positions(train_data, unique_positions)\n",
    "test_data = encode_positions(test_data, unique_positions)\n",
    "\n",
    "# Orijinal 'Positions' sütununu kaldıralım\n",
    "train_data.drop('Positions', axis=1, inplace=True)\n",
    "test_data.drop('Positions', axis=1, inplace=True)\n"
   ]
  },
  {
   "cell_type": "code",
   "execution_count": 19,
   "id": "cb3c1bc3-dac2-461f-ad14-838eb429447c",
   "metadata": {},
   "outputs": [
    {
     "name": "stdout",
     "output_type": "stream",
     "text": [
      "\n",
      "Yeni pozisyon sütunları:\n",
      "   Position_AMC  Position_AML  Position_AMR  Position_DC  Position_DL  \\\n",
      "0             1             0             0            0            0   \n",
      "1             0             0             0            0            0   \n",
      "2             0             0             0            1            1   \n",
      "3             0             0             0            1            0   \n",
      "4             0             0             0            0            0   \n",
      "\n",
      "   Position_DM  Position_DR  Position_GK  Position_MC  Position_ML  \\\n",
      "0            0            0            0            0            0   \n",
      "1            0            0            1            0            0   \n",
      "2            0            0            0            0            0   \n",
      "3            0            0            0            0            0   \n",
      "4            0            0            1            0            0   \n",
      "\n",
      "   Position_MR  Position_ST  Position_WBL  Position_WBR  \n",
      "0            0            0             0             0  \n",
      "1            0            0             0             0  \n",
      "2            0            0             0             0  \n",
      "3            0            0             0             0  \n",
      "4            0            0             0             0  \n"
     ]
    }
   ],
   "source": [
    "# Yeni pozisyon sütunlarını kontrol edelim\n",
    "print(\"\\nYeni pozisyon sütunları:\")\n",
    "print(train_data[[f'Position_{pos}' for pos in unique_positions]].head())\n"
   ]
  },
  {
   "cell_type": "code",
   "execution_count": 21,
   "id": "712f6994-488d-484b-b48d-eea76a819e35",
   "metadata": {},
   "outputs": [
    {
     "name": "stdout",
     "output_type": "stream",
     "text": [
      "\n",
      "Eğitim verisinde eksik değer sayısı: 0\n",
      "Test verisinde eksik değer sayısı: 0\n"
     ]
    }
   ],
   "source": [
    "# Sayısal sütunları belirleyelim, 'value_increased' sütununu hariç tutalım\n",
    "numerical_cols = train_data.select_dtypes(include=['float64', 'int64']).columns.tolist()\n",
    "if 'value_increased' in numerical_cols:\n",
    "    numerical_cols.remove('value_increased')\n",
    "\n",
    "# Eksik değerleri sütunun ortalaması ile dolduralım\n",
    "for col in numerical_cols:\n",
    "    mean_value = train_data[col].mean()\n",
    "    train_data[col] = train_data[col].fillna(mean_value)\n",
    "    if col in test_data.columns:\n",
    "        test_data[col] = test_data[col].fillna(mean_value)\n",
    "\n",
    "# Eksik değerlerin kalmadığını kontrol edelim\n",
    "print(\"\\nEğitim verisinde eksik değer sayısı:\", train_data.isnull().sum().sum())\n",
    "print(\"Test verisinde eksik değer sayısı:\", test_data.isnull().sum().sum())\n"
   ]
  },
  {
   "cell_type": "code",
   "execution_count": 23,
   "id": "5d8a021a-1f2f-4f9f-bfb9-a2f5a69373ae",
   "metadata": {},
   "outputs": [
    {
     "name": "stdout",
     "output_type": "stream",
     "text": [
      "\n",
      "Sınıf dağılımı:\n",
      "value_increased\n",
      "0    395\n",
      "1     70\n",
      "Name: count, dtype: int64\n"
     ]
    }
   ],
   "source": [
    "# Hedef değişkenin sınıf dağılımını kontrol edelim\n",
    "print(\"\\nSınıf dağılımı:\")\n",
    "print(train_data['value_increased'].value_counts())\n"
   ]
  },
  {
   "cell_type": "code",
   "execution_count": 25,
   "id": "f43e698e-d11d-4d60-b58b-9544d84b5022",
   "metadata": {},
   "outputs": [
    {
     "name": "stdout",
     "output_type": "stream",
     "text": [
      "\n",
      "Yeni sınıf dağılımı: Counter({0: 395, 1: 395})\n"
     ]
    }
   ],
   "source": [
    "# Özellikleri ve hedef değişkeni ayıralım\n",
    "X = train_data.drop(['id', 'value_increased'], axis=1)\n",
    "y = train_data['value_increased']\n",
    "\n",
    "# SMOTE uygulayalım ve sınıf dağılımını eşitleme\n",
    "smote = SMOTE(random_state=42, sampling_strategy=1.0)  # Azınlık sınıfını çoğunluk sınıfıyla eşitler\n",
    "X_resampled, y_resampled = smote.fit_resample(X, y)\n",
    "\n",
    "# Yeni sınıf dağılımını kontrol edelim\n",
    "from collections import Counter\n",
    "print(\"\\nYeni sınıf dağılımı:\", Counter(y_resampled))\n"
   ]
  },
  {
   "cell_type": "code",
   "execution_count": null,
   "id": "1ce782d6-550f-426c-917e-54422c20f84f",
   "metadata": {},
   "outputs": [],
   "source": []
  },
  {
   "cell_type": "code",
   "execution_count": 28,
   "id": "f389b0bc-a70c-4af1-9e3f-44d44e664ea3",
   "metadata": {},
   "outputs": [],
   "source": [
    "X_train, X_val, y_train, y_val = train_test_split(X_resampled, y_resampled, test_size=0.2, random_state=42)\n"
   ]
  },
  {
   "cell_type": "code",
   "execution_count": 30,
   "id": "dfdc3129-13af-4cbb-9ac2-bf14c0e6e969",
   "metadata": {},
   "outputs": [],
   "source": [
    "# Özellikleri ölçekleyelim\n",
    "scaler = StandardScaler()\n",
    "X_train_scaled = scaler.fit_transform(X_train)\n",
    "X_val_scaled = scaler.transform(X_val)\n"
   ]
  },
  {
   "cell_type": "code",
   "execution_count": 32,
   "id": "6912a171-4f3a-4c43-b13c-f3a805ca06f3",
   "metadata": {},
   "outputs": [],
   "source": [
    "from keras.models import Sequential\n",
    "from keras.layers import Dense, Dropout, BatchNormalization\n",
    "from keras.callbacks import EarlyStopping, ReduceLROnPlateau, ModelCheckpoint\n",
    "from keras.optimizers import Adam\n",
    "from keras.metrics import AUC\n",
    "\n",
    "# Modeli oluşturalım\n",
    "model = Sequential()\n",
    "model.add(Dense(256, input_dim=X_train_scaled.shape[1], activation='relu'))\n",
    "model.add(BatchNormalization())\n",
    "model.add(Dropout(0.5))\n",
    "model.add(Dense(128, activation='relu'))\n",
    "model.add(BatchNormalization())\n",
    "model.add(Dropout(0.4))\n",
    "\n",
    "model.add(Dense(64, activation='relu'))\n",
    "model.add(BatchNormalization())\n",
    "model.add(Dropout(0.3))\n",
    "\n",
    "model.add(Dense(64, activation='relu'))\n",
    "model.add(BatchNormalization())\n",
    "model.add(Dropout(0.3))\n",
    "\n",
    "model.add(Dense(32, activation='relu'))\n",
    "model.add(BatchNormalization())\n",
    "model.add(Dropout(0.2))\n",
    "\n",
    "model.add(Dense(1, activation='sigmoid'))"
   ]
  },
  {
   "cell_type": "code",
   "execution_count": 34,
   "id": "453a7daf-03ea-4692-8653-41e3c378c9d7",
   "metadata": {},
   "outputs": [],
   "source": [
    "# Optimizer'ı tanımlayalım\n",
    "optimizer = Adam(learning_rate=0.001)\n",
    "\n",
    "# Modeli derleyelim\n",
    "model.compile(optimizer=optimizer, \n",
    "              loss='binary_crossentropy', \n",
    "              metrics=['accuracy', AUC(name='auc')])"
   ]
  },
  {
   "cell_type": "code",
   "execution_count": 36,
   "id": "d98d7bc0-f3f8-4f4b-a2da-649b4c382a8c",
   "metadata": {},
   "outputs": [],
   "source": [
    "# Callbacks'i tanımlayalım\n",
    "early_stopping = EarlyStopping(monitor='val_loss', patience=60, restore_best_weights=True, verbose=1)\n",
    "reduce_lr = ReduceLROnPlateau(monitor='val_loss', factor=0.2, patience=10, min_lr=1e-6, verbose=1)\n",
    "model_checkpoint = ModelCheckpoint('best_model.keras', monitor='val_loss', save_best_only=True, verbose=1)\n"
   ]
  },
  {
   "cell_type": "code",
   "execution_count": 38,
   "id": "822bae1f-24d1-4dcf-831d-4cde69176c3a",
   "metadata": {},
   "outputs": [
    {
     "name": "stdout",
     "output_type": "stream",
     "text": [
      "Epoch 1/300\n",
      "\u001b[1m20/20\u001b[0m \u001b[32m━━━━━━━━━━━━━━━━━━━━\u001b[0m\u001b[37m\u001b[0m \u001b[1m1s\u001b[0m 7ms/step - accuracy: 0.5155 - auc: 0.5258 - loss: 0.9137 - val_accuracy: 0.5949 - val_auc: 0.8115 - val_loss: 0.6293\n",
      "Epoch 2/300\n",
      "\u001b[1m20/20\u001b[0m \u001b[32m━━━━━━━━━━━━━━━━━━━━\u001b[0m\u001b[37m\u001b[0m \u001b[1m0s\u001b[0m 2ms/step - accuracy: 0.6880 - auc: 0.7337 - loss: 0.6366 - val_accuracy: 0.7215 - val_auc: 0.8639 - val_loss: 0.5720\n",
      "Epoch 3/300\n",
      "\u001b[1m20/20\u001b[0m \u001b[32m━━━━━━━━━━━━━━━━━━━━\u001b[0m\u001b[37m\u001b[0m \u001b[1m0s\u001b[0m 2ms/step - accuracy: 0.6840 - auc: 0.7286 - loss: 0.6289 - val_accuracy: 0.7911 - val_auc: 0.8829 - val_loss: 0.5354\n",
      "Epoch 4/300\n",
      "\u001b[1m20/20\u001b[0m \u001b[32m━━━━━━━━━━━━━━━━━━━━\u001b[0m\u001b[37m\u001b[0m \u001b[1m0s\u001b[0m 2ms/step - accuracy: 0.7466 - auc: 0.8263 - loss: 0.5161 - val_accuracy: 0.7785 - val_auc: 0.8827 - val_loss: 0.5116\n",
      "Epoch 5/300\n",
      "\u001b[1m20/20\u001b[0m \u001b[32m━━━━━━━━━━━━━━━━━━━━\u001b[0m\u001b[37m\u001b[0m \u001b[1m0s\u001b[0m 2ms/step - accuracy: 0.7973 - auc: 0.8620 - loss: 0.4652 - val_accuracy: 0.7595 - val_auc: 0.8781 - val_loss: 0.4992\n",
      "Epoch 6/300\n",
      "\u001b[1m20/20\u001b[0m \u001b[32m━━━━━━━━━━━━━━━━━━━━\u001b[0m\u001b[37m\u001b[0m \u001b[1m0s\u001b[0m 2ms/step - accuracy: 0.7860 - auc: 0.8666 - loss: 0.4688 - val_accuracy: 0.7785 - val_auc: 0.8793 - val_loss: 0.4893\n",
      "Epoch 7/300\n",
      "\u001b[1m20/20\u001b[0m \u001b[32m━━━━━━━━━━━━━━━━━━━━\u001b[0m\u001b[37m\u001b[0m \u001b[1m0s\u001b[0m 2ms/step - accuracy: 0.7909 - auc: 0.8663 - loss: 0.4699 - val_accuracy: 0.7532 - val_auc: 0.8827 - val_loss: 0.4818\n",
      "Epoch 8/300\n",
      "\u001b[1m20/20\u001b[0m \u001b[32m━━━━━━━━━━━━━━━━━━━━\u001b[0m\u001b[37m\u001b[0m \u001b[1m0s\u001b[0m 2ms/step - accuracy: 0.8183 - auc: 0.8973 - loss: 0.4040 - val_accuracy: 0.7278 - val_auc: 0.8770 - val_loss: 0.5015\n",
      "Epoch 9/300\n",
      "\u001b[1m20/20\u001b[0m \u001b[32m━━━━━━━━━━━━━━━━━━━━\u001b[0m\u001b[37m\u001b[0m \u001b[1m0s\u001b[0m 2ms/step - accuracy: 0.8210 - auc: 0.8993 - loss: 0.4161 - val_accuracy: 0.7468 - val_auc: 0.8922 - val_loss: 0.4852\n",
      "Epoch 10/300\n",
      "\u001b[1m20/20\u001b[0m \u001b[32m━━━━━━━━━━━━━━━━━━━━\u001b[0m\u001b[37m\u001b[0m \u001b[1m0s\u001b[0m 2ms/step - accuracy: 0.8231 - auc: 0.9109 - loss: 0.3796 - val_accuracy: 0.7658 - val_auc: 0.8883 - val_loss: 0.4783\n",
      "Epoch 11/300\n",
      "\u001b[1m20/20\u001b[0m \u001b[32m━━━━━━━━━━━━━━━━━━━━\u001b[0m\u001b[37m\u001b[0m \u001b[1m0s\u001b[0m 2ms/step - accuracy: 0.8608 - auc: 0.9239 - loss: 0.3603 - val_accuracy: 0.7532 - val_auc: 0.8973 - val_loss: 0.4729\n",
      "Epoch 12/300\n",
      "\u001b[1m20/20\u001b[0m \u001b[32m━━━━━━━━━━━━━━━━━━━━\u001b[0m\u001b[37m\u001b[0m \u001b[1m0s\u001b[0m 2ms/step - accuracy: 0.8418 - auc: 0.9242 - loss: 0.3540 - val_accuracy: 0.7595 - val_auc: 0.8933 - val_loss: 0.4693\n",
      "Epoch 13/300\n",
      "\u001b[1m20/20\u001b[0m \u001b[32m━━━━━━━━━━━━━━━━━━━━\u001b[0m\u001b[37m\u001b[0m \u001b[1m0s\u001b[0m 2ms/step - accuracy: 0.8510 - auc: 0.9413 - loss: 0.3116 - val_accuracy: 0.7848 - val_auc: 0.9027 - val_loss: 0.4569\n",
      "Epoch 14/300\n",
      "\u001b[1m20/20\u001b[0m \u001b[32m━━━━━━━━━━━━━━━━━━━━\u001b[0m\u001b[37m\u001b[0m \u001b[1m0s\u001b[0m 2ms/step - accuracy: 0.8651 - auc: 0.9388 - loss: 0.3182 - val_accuracy: 0.8101 - val_auc: 0.9092 - val_loss: 0.4437\n",
      "Epoch 15/300\n",
      "\u001b[1m20/20\u001b[0m \u001b[32m━━━━━━━━━━━━━━━━━━━━\u001b[0m\u001b[37m\u001b[0m \u001b[1m0s\u001b[0m 2ms/step - accuracy: 0.8435 - auc: 0.9286 - loss: 0.3467 - val_accuracy: 0.7911 - val_auc: 0.9077 - val_loss: 0.4506\n",
      "Epoch 16/300\n",
      "\u001b[1m20/20\u001b[0m \u001b[32m━━━━━━━━━━━━━━━━━━━━\u001b[0m\u001b[37m\u001b[0m \u001b[1m0s\u001b[0m 2ms/step - accuracy: 0.8858 - auc: 0.9544 - loss: 0.2808 - val_accuracy: 0.7975 - val_auc: 0.9067 - val_loss: 0.4646\n",
      "Epoch 17/300\n",
      "\u001b[1m20/20\u001b[0m \u001b[32m━━━━━━━━━━━━━━━━━━━━\u001b[0m\u001b[37m\u001b[0m \u001b[1m0s\u001b[0m 2ms/step - accuracy: 0.9011 - auc: 0.9598 - loss: 0.2547 - val_accuracy: 0.8228 - val_auc: 0.9127 - val_loss: 0.4499\n",
      "Epoch 18/300\n",
      "\u001b[1m20/20\u001b[0m \u001b[32m━━━━━━━━━━━━━━━━━━━━\u001b[0m\u001b[37m\u001b[0m \u001b[1m0s\u001b[0m 2ms/step - accuracy: 0.8718 - auc: 0.9355 - loss: 0.3309 - val_accuracy: 0.8101 - val_auc: 0.9280 - val_loss: 0.4403\n",
      "Epoch 19/300\n",
      "\u001b[1m20/20\u001b[0m \u001b[32m━━━━━━━━━━━━━━━━━━━━\u001b[0m\u001b[37m\u001b[0m \u001b[1m0s\u001b[0m 2ms/step - accuracy: 0.8845 - auc: 0.9595 - loss: 0.2599 - val_accuracy: 0.8291 - val_auc: 0.9233 - val_loss: 0.4404\n",
      "Epoch 20/300\n",
      "\u001b[1m20/20\u001b[0m \u001b[32m━━━━━━━━━━━━━━━━━━━━\u001b[0m\u001b[37m\u001b[0m \u001b[1m0s\u001b[0m 2ms/step - accuracy: 0.8989 - auc: 0.9651 - loss: 0.2561 - val_accuracy: 0.8228 - val_auc: 0.9189 - val_loss: 0.4389\n",
      "Epoch 21/300\n",
      "\u001b[1m20/20\u001b[0m \u001b[32m━━━━━━━━━━━━━━━━━━━━\u001b[0m\u001b[37m\u001b[0m \u001b[1m0s\u001b[0m 2ms/step - accuracy: 0.9006 - auc: 0.9576 - loss: 0.2694 - val_accuracy: 0.8228 - val_auc: 0.9236 - val_loss: 0.4235\n",
      "Epoch 22/300\n",
      "\u001b[1m20/20\u001b[0m \u001b[32m━━━━━━━━━━━━━━━━━━━━\u001b[0m\u001b[37m\u001b[0m \u001b[1m0s\u001b[0m 2ms/step - accuracy: 0.9059 - auc: 0.9694 - loss: 0.2277 - val_accuracy: 0.8354 - val_auc: 0.9296 - val_loss: 0.4092\n",
      "Epoch 23/300\n",
      "\u001b[1m20/20\u001b[0m \u001b[32m━━━━━━━━━━━━━━━━━━━━\u001b[0m\u001b[37m\u001b[0m \u001b[1m0s\u001b[0m 2ms/step - accuracy: 0.9089 - auc: 0.9756 - loss: 0.2120 - val_accuracy: 0.8354 - val_auc: 0.9302 - val_loss: 0.4131\n",
      "Epoch 24/300\n",
      "\u001b[1m20/20\u001b[0m \u001b[32m━━━━━━━━━━━━━━━━━━━━\u001b[0m\u001b[37m\u001b[0m \u001b[1m0s\u001b[0m 2ms/step - accuracy: 0.9095 - auc: 0.9753 - loss: 0.2103 - val_accuracy: 0.8418 - val_auc: 0.9323 - val_loss: 0.4288\n",
      "Epoch 25/300\n",
      "\u001b[1m20/20\u001b[0m \u001b[32m━━━━━━━━━━━━━━━━━━━━\u001b[0m\u001b[37m\u001b[0m \u001b[1m0s\u001b[0m 2ms/step - accuracy: 0.9267 - auc: 0.9826 - loss: 0.1731 - val_accuracy: 0.8418 - val_auc: 0.9378 - val_loss: 0.4015\n",
      "Epoch 26/300\n",
      "\u001b[1m20/20\u001b[0m \u001b[32m━━━━━━━━━━━━━━━━━━━━\u001b[0m\u001b[37m\u001b[0m \u001b[1m0s\u001b[0m 2ms/step - accuracy: 0.9198 - auc: 0.9782 - loss: 0.1948 - val_accuracy: 0.8671 - val_auc: 0.9396 - val_loss: 0.3980\n",
      "Epoch 27/300\n",
      "\u001b[1m20/20\u001b[0m \u001b[32m━━━━━━━━━━━━━━━━━━━━\u001b[0m\u001b[37m\u001b[0m \u001b[1m0s\u001b[0m 2ms/step - accuracy: 0.9269 - auc: 0.9822 - loss: 0.1796 - val_accuracy: 0.8418 - val_auc: 0.9364 - val_loss: 0.3992\n",
      "Epoch 28/300\n",
      "\u001b[1m20/20\u001b[0m \u001b[32m━━━━━━━━━━━━━━━━━━━━\u001b[0m\u001b[37m\u001b[0m \u001b[1m0s\u001b[0m 2ms/step - accuracy: 0.9376 - auc: 0.9824 - loss: 0.1712 - val_accuracy: 0.8481 - val_auc: 0.9451 - val_loss: 0.3831\n",
      "Epoch 29/300\n",
      "\u001b[1m20/20\u001b[0m \u001b[32m━━━━━━━━━━━━━━━━━━━━\u001b[0m\u001b[37m\u001b[0m \u001b[1m0s\u001b[0m 2ms/step - accuracy: 0.9320 - auc: 0.9849 - loss: 0.1619 - val_accuracy: 0.8671 - val_auc: 0.9461 - val_loss: 0.3705\n",
      "Epoch 30/300\n",
      "\u001b[1m20/20\u001b[0m \u001b[32m━━━━━━━━━━━━━━━━━━━━\u001b[0m\u001b[37m\u001b[0m \u001b[1m0s\u001b[0m 2ms/step - accuracy: 0.9584 - auc: 0.9894 - loss: 0.1331 - val_accuracy: 0.8418 - val_auc: 0.9414 - val_loss: 0.3920\n",
      "Epoch 31/300\n",
      "\u001b[1m20/20\u001b[0m \u001b[32m━━━━━━━━━━━━━━━━━━━━\u001b[0m\u001b[37m\u001b[0m \u001b[1m0s\u001b[0m 2ms/step - accuracy: 0.9351 - auc: 0.9890 - loss: 0.1423 - val_accuracy: 0.8418 - val_auc: 0.9394 - val_loss: 0.4045\n",
      "Epoch 32/300\n",
      "\u001b[1m20/20\u001b[0m \u001b[32m━━━━━━━━━━━━━━━━━━━━\u001b[0m\u001b[37m\u001b[0m \u001b[1m0s\u001b[0m 2ms/step - accuracy: 0.9483 - auc: 0.9825 - loss: 0.1656 - val_accuracy: 0.8481 - val_auc: 0.9431 - val_loss: 0.4003\n",
      "Epoch 33/300\n",
      "\u001b[1m20/20\u001b[0m \u001b[32m━━━━━━━━━━━━━━━━━━━━\u001b[0m\u001b[37m\u001b[0m \u001b[1m0s\u001b[0m 2ms/step - accuracy: 0.9328 - auc: 0.9903 - loss: 0.1317 - val_accuracy: 0.8544 - val_auc: 0.9503 - val_loss: 0.3903\n",
      "Epoch 34/300\n",
      "\u001b[1m20/20\u001b[0m \u001b[32m━━━━━━━━━━━━━━━━━━━━\u001b[0m\u001b[37m\u001b[0m \u001b[1m0s\u001b[0m 2ms/step - accuracy: 0.9369 - auc: 0.9899 - loss: 0.1318 - val_accuracy: 0.8544 - val_auc: 0.9481 - val_loss: 0.3861\n",
      "Epoch 35/300\n",
      "\u001b[1m20/20\u001b[0m \u001b[32m━━━━━━━━━━━━━━━━━━━━\u001b[0m\u001b[37m\u001b[0m \u001b[1m0s\u001b[0m 2ms/step - accuracy: 0.9453 - auc: 0.9887 - loss: 0.1383 - val_accuracy: 0.8924 - val_auc: 0.9565 - val_loss: 0.3364\n",
      "Epoch 36/300\n",
      "\u001b[1m20/20\u001b[0m \u001b[32m━━━━━━━━━━━━━━━━━━━━\u001b[0m\u001b[37m\u001b[0m \u001b[1m0s\u001b[0m 2ms/step - accuracy: 0.9438 - auc: 0.9858 - loss: 0.1492 - val_accuracy: 0.8861 - val_auc: 0.9557 - val_loss: 0.3493\n",
      "Epoch 37/300\n",
      "\u001b[1m20/20\u001b[0m \u001b[32m━━━━━━━━━━━━━━━━━━━━\u001b[0m\u001b[37m\u001b[0m \u001b[1m0s\u001b[0m 2ms/step - accuracy: 0.9460 - auc: 0.9932 - loss: 0.1084 - val_accuracy: 0.8608 - val_auc: 0.9515 - val_loss: 0.3652\n",
      "Epoch 38/300\n",
      "\u001b[1m20/20\u001b[0m \u001b[32m━━━━━━━━━━━━━━━━━━━━\u001b[0m\u001b[37m\u001b[0m \u001b[1m0s\u001b[0m 2ms/step - accuracy: 0.9407 - auc: 0.9879 - loss: 0.1428 - val_accuracy: 0.8418 - val_auc: 0.9502 - val_loss: 0.3849\n",
      "Epoch 39/300\n",
      "\u001b[1m20/20\u001b[0m \u001b[32m━━━━━━━━━━━━━━━━━━━━\u001b[0m\u001b[37m\u001b[0m \u001b[1m0s\u001b[0m 2ms/step - accuracy: 0.9467 - auc: 0.9907 - loss: 0.1270 - val_accuracy: 0.8797 - val_auc: 0.9524 - val_loss: 0.3719\n",
      "Epoch 40/300\n",
      "\u001b[1m20/20\u001b[0m \u001b[32m━━━━━━━━━━━━━━━━━━━━\u001b[0m\u001b[37m\u001b[0m \u001b[1m0s\u001b[0m 2ms/step - accuracy: 0.9362 - auc: 0.9891 - loss: 0.1382 - val_accuracy: 0.8734 - val_auc: 0.9483 - val_loss: 0.3864\n",
      "Epoch 41/300\n",
      "\u001b[1m20/20\u001b[0m \u001b[32m━━━━━━━━━━━━━━━━━━━━\u001b[0m\u001b[37m\u001b[0m \u001b[1m0s\u001b[0m 2ms/step - accuracy: 0.9373 - auc: 0.9845 - loss: 0.1520 - val_accuracy: 0.8608 - val_auc: 0.9484 - val_loss: 0.3969\n",
      "Epoch 42/300\n",
      "\u001b[1m20/20\u001b[0m \u001b[32m━━━━━━━━━━━━━━━━━━━━\u001b[0m\u001b[37m\u001b[0m \u001b[1m0s\u001b[0m 2ms/step - accuracy: 0.9718 - auc: 0.9958 - loss: 0.0827 - val_accuracy: 0.8734 - val_auc: 0.9532 - val_loss: 0.3806\n",
      "Epoch 43/300\n",
      "\u001b[1m20/20\u001b[0m \u001b[32m━━━━━━━━━━━━━━━━━━━━\u001b[0m\u001b[37m\u001b[0m \u001b[1m0s\u001b[0m 2ms/step - accuracy: 0.9431 - auc: 0.9900 - loss: 0.1356 - val_accuracy: 0.8481 - val_auc: 0.9512 - val_loss: 0.4015\n",
      "Epoch 44/300\n",
      "\u001b[1m20/20\u001b[0m \u001b[32m━━━━━━━━━━━━━━━━━━━━\u001b[0m\u001b[37m\u001b[0m \u001b[1m0s\u001b[0m 2ms/step - accuracy: 0.9651 - auc: 0.9953 - loss: 0.0982 - val_accuracy: 0.8608 - val_auc: 0.9513 - val_loss: 0.4053\n",
      "Epoch 45/300\n",
      "\u001b[1m20/20\u001b[0m \u001b[32m━━━━━━━━━━━━━━━━━━━━\u001b[0m\u001b[37m\u001b[0m \u001b[1m0s\u001b[0m 2ms/step - accuracy: 0.9675 - auc: 0.9910 - loss: 0.1157 - val_accuracy: 0.8544 - val_auc: 0.9514 - val_loss: 0.3767\n",
      "Epoch 46/300\n",
      "\u001b[1m20/20\u001b[0m \u001b[32m━━━━━━━━━━━━━━━━━━━━\u001b[0m\u001b[37m\u001b[0m \u001b[1m0s\u001b[0m 2ms/step - accuracy: 0.9709 - auc: 0.9951 - loss: 0.0961 - val_accuracy: 0.8734 - val_auc: 0.9498 - val_loss: 0.3894\n",
      "Epoch 47/300\n",
      "\u001b[1m20/20\u001b[0m \u001b[32m━━━━━━━━━━━━━━━━━━━━\u001b[0m\u001b[37m\u001b[0m \u001b[1m0s\u001b[0m 2ms/step - accuracy: 0.9634 - auc: 0.9945 - loss: 0.0966 - val_accuracy: 0.8734 - val_auc: 0.9512 - val_loss: 0.4025\n",
      "Epoch 48/300\n",
      "\u001b[1m20/20\u001b[0m \u001b[32m━━━━━━━━━━━━━━━━━━━━\u001b[0m\u001b[37m\u001b[0m \u001b[1m0s\u001b[0m 2ms/step - accuracy: 0.9614 - auc: 0.9940 - loss: 0.1000 - val_accuracy: 0.8544 - val_auc: 0.9562 - val_loss: 0.3741\n",
      "Epoch 49/300\n",
      "\u001b[1m20/20\u001b[0m \u001b[32m━━━━━━━━━━━━━━━━━━━━\u001b[0m\u001b[37m\u001b[0m \u001b[1m0s\u001b[0m 2ms/step - accuracy: 0.9479 - auc: 0.9914 - loss: 0.1454 - val_accuracy: 0.8418 - val_auc: 0.9520 - val_loss: 0.3870\n",
      "Epoch 50/300\n",
      "\u001b[1m20/20\u001b[0m \u001b[32m━━━━━━━━━━━━━━━━━━━━\u001b[0m\u001b[37m\u001b[0m \u001b[1m0s\u001b[0m 2ms/step - accuracy: 0.9477 - auc: 0.9911 - loss: 0.1303 - val_accuracy: 0.8861 - val_auc: 0.9537 - val_loss: 0.3831\n",
      "Epoch 51/300\n",
      "\u001b[1m20/20\u001b[0m \u001b[32m━━━━━━━━━━━━━━━━━━━━\u001b[0m\u001b[37m\u001b[0m \u001b[1m0s\u001b[0m 2ms/step - accuracy: 0.9757 - auc: 0.9957 - loss: 0.0781 - val_accuracy: 0.8671 - val_auc: 0.9569 - val_loss: 0.3488\n",
      "Epoch 52/300\n",
      "\u001b[1m20/20\u001b[0m \u001b[32m━━━━━━━━━━━━━━━━━━━━\u001b[0m\u001b[37m\u001b[0m \u001b[1m0s\u001b[0m 2ms/step - accuracy: 0.9794 - auc: 0.9976 - loss: 0.0646 - val_accuracy: 0.8797 - val_auc: 0.9570 - val_loss: 0.3491\n",
      "Epoch 53/300\n",
      "\u001b[1m20/20\u001b[0m \u001b[32m━━━━━━━━━━━━━━━━━━━━\u001b[0m\u001b[37m\u001b[0m \u001b[1m0s\u001b[0m 2ms/step - accuracy: 0.9758 - auc: 0.9986 - loss: 0.0599 - val_accuracy: 0.8797 - val_auc: 0.9600 - val_loss: 0.3460\n",
      "Epoch 54/300\n",
      "\u001b[1m20/20\u001b[0m \u001b[32m━━━━━━━━━━━━━━━━━━━━\u001b[0m\u001b[37m\u001b[0m \u001b[1m0s\u001b[0m 2ms/step - accuracy: 0.9745 - auc: 0.9969 - loss: 0.0754 - val_accuracy: 0.8861 - val_auc: 0.9607 - val_loss: 0.3325\n",
      "Epoch 55/300\n",
      "\u001b[1m20/20\u001b[0m \u001b[32m━━━━━━━━━━━━━━━━━━━━\u001b[0m\u001b[37m\u001b[0m \u001b[1m0s\u001b[0m 2ms/step - accuracy: 0.9561 - auc: 0.9897 - loss: 0.1259 - val_accuracy: 0.8861 - val_auc: 0.9636 - val_loss: 0.3324\n",
      "Epoch 56/300\n",
      "\u001b[1m20/20\u001b[0m \u001b[32m━━━━━━━━━━━━━━━━━━━━\u001b[0m\u001b[37m\u001b[0m \u001b[1m0s\u001b[0m 2ms/step - accuracy: 0.9681 - auc: 0.9972 - loss: 0.0754 - val_accuracy: 0.8734 - val_auc: 0.9594 - val_loss: 0.3509\n",
      "Epoch 57/300\n",
      "\u001b[1m20/20\u001b[0m \u001b[32m━━━━━━━━━━━━━━━━━━━━\u001b[0m\u001b[37m\u001b[0m \u001b[1m0s\u001b[0m 2ms/step - accuracy: 0.9765 - auc: 0.9980 - loss: 0.0664 - val_accuracy: 0.8671 - val_auc: 0.9563 - val_loss: 0.3827\n",
      "Epoch 58/300\n",
      "\u001b[1m20/20\u001b[0m \u001b[32m━━━━━━━━━━━━━━━━━━━━\u001b[0m\u001b[37m\u001b[0m \u001b[1m0s\u001b[0m 2ms/step - accuracy: 0.9584 - auc: 0.9926 - loss: 0.1152 - val_accuracy: 0.8608 - val_auc: 0.9602 - val_loss: 0.3528\n",
      "Epoch 59/300\n",
      "\u001b[1m20/20\u001b[0m \u001b[32m━━━━━━━━━━━━━━━━━━━━\u001b[0m\u001b[37m\u001b[0m \u001b[1m0s\u001b[0m 2ms/step - accuracy: 0.9436 - auc: 0.9890 - loss: 0.1488 - val_accuracy: 0.8797 - val_auc: 0.9635 - val_loss: 0.3233\n",
      "Epoch 60/300\n",
      "\u001b[1m20/20\u001b[0m \u001b[32m━━━━━━━━━━━━━━━━━━━━\u001b[0m\u001b[37m\u001b[0m \u001b[1m0s\u001b[0m 2ms/step - accuracy: 0.9797 - auc: 0.9980 - loss: 0.0654 - val_accuracy: 0.8924 - val_auc: 0.9647 - val_loss: 0.3163\n",
      "Epoch 61/300\n",
      "\u001b[1m20/20\u001b[0m \u001b[32m━━━━━━━━━━━━━━━━━━━━\u001b[0m\u001b[37m\u001b[0m \u001b[1m0s\u001b[0m 2ms/step - accuracy: 0.9731 - auc: 0.9928 - loss: 0.0804 - val_accuracy: 0.8924 - val_auc: 0.9627 - val_loss: 0.3254\n",
      "Epoch 62/300\n",
      "\u001b[1m20/20\u001b[0m \u001b[32m━━━━━━━━━━━━━━━━━━━━\u001b[0m\u001b[37m\u001b[0m \u001b[1m0s\u001b[0m 2ms/step - accuracy: 0.9889 - auc: 0.9978 - loss: 0.0566 - val_accuracy: 0.8861 - val_auc: 0.9678 - val_loss: 0.2903\n",
      "Epoch 63/300\n",
      "\u001b[1m20/20\u001b[0m \u001b[32m━━━━━━━━━━━━━━━━━━━━\u001b[0m\u001b[37m\u001b[0m \u001b[1m0s\u001b[0m 2ms/step - accuracy: 0.9780 - auc: 0.9984 - loss: 0.0572 - val_accuracy: 0.8861 - val_auc: 0.9629 - val_loss: 0.3206\n",
      "Epoch 64/300\n",
      "\u001b[1m20/20\u001b[0m \u001b[32m━━━━━━━━━━━━━━━━━━━━\u001b[0m\u001b[37m\u001b[0m \u001b[1m0s\u001b[0m 2ms/step - accuracy: 0.9492 - auc: 0.9944 - loss: 0.1007 - val_accuracy: 0.8861 - val_auc: 0.9622 - val_loss: 0.3259\n",
      "Epoch 65/300\n",
      "\u001b[1m20/20\u001b[0m \u001b[32m━━━━━━━━━━━━━━━━━━━━\u001b[0m\u001b[37m\u001b[0m \u001b[1m0s\u001b[0m 2ms/step - accuracy: 0.9853 - auc: 0.9983 - loss: 0.0512 - val_accuracy: 0.8861 - val_auc: 0.9622 - val_loss: 0.3301\n",
      "Epoch 66/300\n",
      "\u001b[1m20/20\u001b[0m \u001b[32m━━━━━━━━━━━━━━━━━━━━\u001b[0m\u001b[37m\u001b[0m \u001b[1m0s\u001b[0m 2ms/step - accuracy: 0.9701 - auc: 0.9960 - loss: 0.0775 - val_accuracy: 0.8861 - val_auc: 0.9608 - val_loss: 0.3445\n",
      "Epoch 67/300\n",
      "\u001b[1m20/20\u001b[0m \u001b[32m━━━━━━━━━━━━━━━━━━━━\u001b[0m\u001b[37m\u001b[0m \u001b[1m0s\u001b[0m 2ms/step - accuracy: 0.9765 - auc: 0.9979 - loss: 0.0644 - val_accuracy: 0.8797 - val_auc: 0.9593 - val_loss: 0.3555\n",
      "Epoch 68/300\n",
      "\u001b[1m20/20\u001b[0m \u001b[32m━━━━━━━━━━━━━━━━━━━━\u001b[0m\u001b[37m\u001b[0m \u001b[1m0s\u001b[0m 2ms/step - accuracy: 0.9855 - auc: 0.9993 - loss: 0.0387 - val_accuracy: 0.8797 - val_auc: 0.9586 - val_loss: 0.3549\n",
      "Epoch 69/300\n",
      "\u001b[1m20/20\u001b[0m \u001b[32m━━━━━━━━━━━━━━━━━━━━\u001b[0m\u001b[37m\u001b[0m \u001b[1m0s\u001b[0m 2ms/step - accuracy: 0.9633 - auc: 0.9931 - loss: 0.0977 - val_accuracy: 0.8671 - val_auc: 0.9604 - val_loss: 0.3713\n",
      "Epoch 70/300\n",
      "\u001b[1m20/20\u001b[0m \u001b[32m━━━━━━━━━━━━━━━━━━━━\u001b[0m\u001b[37m\u001b[0m \u001b[1m0s\u001b[0m 2ms/step - accuracy: 0.9856 - auc: 0.9988 - loss: 0.0533 - val_accuracy: 0.8734 - val_auc: 0.9602 - val_loss: 0.3691\n",
      "Epoch 71/300\n",
      "\u001b[1m20/20\u001b[0m \u001b[32m━━━━━━━━━━━━━━━━━━━━\u001b[0m\u001b[37m\u001b[0m \u001b[1m0s\u001b[0m 2ms/step - accuracy: 0.9766 - auc: 0.9982 - loss: 0.0602 - val_accuracy: 0.8797 - val_auc: 0.9571 - val_loss: 0.3911\n",
      "Epoch 72/300\n",
      "\u001b[1m20/20\u001b[0m \u001b[32m━━━━━━━━━━━━━━━━━━━━\u001b[0m\u001b[37m\u001b[0m \u001b[1m0s\u001b[0m 2ms/step - accuracy: 0.9941 - auc: 0.9991 - loss: 0.0411 - val_accuracy: 0.8734 - val_auc: 0.9598 - val_loss: 0.3746\n",
      "Epoch 73/300\n",
      "\u001b[1m20/20\u001b[0m \u001b[32m━━━━━━━━━━━━━━━━━━━━\u001b[0m\u001b[37m\u001b[0m \u001b[1m0s\u001b[0m 2ms/step - accuracy: 0.9743 - auc: 0.9978 - loss: 0.0652 - val_accuracy: 0.8671 - val_auc: 0.9627 - val_loss: 0.3663\n",
      "Epoch 74/300\n",
      "\u001b[1m20/20\u001b[0m \u001b[32m━━━━━━━━━━━━━━━━━━━━\u001b[0m\u001b[37m\u001b[0m \u001b[1m0s\u001b[0m 2ms/step - accuracy: 0.9684 - auc: 0.9979 - loss: 0.0754 - val_accuracy: 0.8671 - val_auc: 0.9647 - val_loss: 0.3496\n",
      "Epoch 75/300\n",
      "\u001b[1m20/20\u001b[0m \u001b[32m━━━━━━━━━━━━━━━━━━━━\u001b[0m\u001b[37m\u001b[0m \u001b[1m0s\u001b[0m 2ms/step - accuracy: 0.9774 - auc: 0.9980 - loss: 0.0550 - val_accuracy: 0.8924 - val_auc: 0.9624 - val_loss: 0.3769\n",
      "Epoch 76/300\n",
      "\u001b[1m20/20\u001b[0m \u001b[32m━━━━━━━━━━━━━━━━━━━━\u001b[0m\u001b[37m\u001b[0m \u001b[1m0s\u001b[0m 2ms/step - accuracy: 0.9682 - auc: 0.9981 - loss: 0.0621 - val_accuracy: 0.8861 - val_auc: 0.9630 - val_loss: 0.3726\n",
      "Epoch 77/300\n",
      "\u001b[1m20/20\u001b[0m \u001b[32m━━━━━━━━━━━━━━━━━━━━\u001b[0m\u001b[37m\u001b[0m \u001b[1m0s\u001b[0m 2ms/step - accuracy: 0.9677 - auc: 0.9973 - loss: 0.0845 - val_accuracy: 0.8861 - val_auc: 0.9516 - val_loss: 0.4062\n",
      "Epoch 78/300\n",
      "\u001b[1m20/20\u001b[0m \u001b[32m━━━━━━━━━━━━━━━━━━━━\u001b[0m\u001b[37m\u001b[0m \u001b[1m0s\u001b[0m 2ms/step - accuracy: 0.9924 - auc: 0.9970 - loss: 0.0384 - val_accuracy: 0.8924 - val_auc: 0.9595 - val_loss: 0.3873\n",
      "Epoch 79/300\n",
      "\u001b[1m20/20\u001b[0m \u001b[32m━━━━━━━━━━━━━━━━━━━━\u001b[0m\u001b[37m\u001b[0m \u001b[1m0s\u001b[0m 2ms/step - accuracy: 0.9772 - auc: 0.9991 - loss: 0.0419 - val_accuracy: 0.8861 - val_auc: 0.9617 - val_loss: 0.3873\n",
      "Epoch 80/300\n",
      "\u001b[1m20/20\u001b[0m \u001b[32m━━━━━━━━━━━━━━━━━━━━\u001b[0m\u001b[37m\u001b[0m \u001b[1m0s\u001b[0m 2ms/step - accuracy: 0.9667 - auc: 0.9951 - loss: 0.0964 - val_accuracy: 0.8797 - val_auc: 0.9589 - val_loss: 0.4106\n",
      "Epoch 81/300\n",
      "\u001b[1m20/20\u001b[0m \u001b[32m━━━━━━━━━━━━━━━━━━━━\u001b[0m\u001b[37m\u001b[0m \u001b[1m0s\u001b[0m 2ms/step - accuracy: 0.9861 - auc: 0.9919 - loss: 0.0675 - val_accuracy: 0.8734 - val_auc: 0.9618 - val_loss: 0.3527\n",
      "Epoch 82/300\n",
      "\u001b[1m20/20\u001b[0m \u001b[32m━━━━━━━━━━━━━━━━━━━━\u001b[0m\u001b[37m\u001b[0m \u001b[1m0s\u001b[0m 2ms/step - accuracy: 0.9863 - auc: 0.9993 - loss: 0.0415 - val_accuracy: 0.8797 - val_auc: 0.9643 - val_loss: 0.3465\n",
      "Epoch 83/300\n",
      "\u001b[1m20/20\u001b[0m \u001b[32m━━━━━━━━━━━━━━━━━━━━\u001b[0m\u001b[37m\u001b[0m \u001b[1m0s\u001b[0m 2ms/step - accuracy: 0.9888 - auc: 0.9983 - loss: 0.0491 - val_accuracy: 0.8987 - val_auc: 0.9676 - val_loss: 0.3487\n",
      "Epoch 84/300\n",
      "\u001b[1m20/20\u001b[0m \u001b[32m━━━━━━━━━━━━━━━━━━━━\u001b[0m\u001b[37m\u001b[0m \u001b[1m0s\u001b[0m 2ms/step - accuracy: 0.9747 - auc: 0.9944 - loss: 0.0791 - val_accuracy: 0.8861 - val_auc: 0.9577 - val_loss: 0.3980\n",
      "Epoch 85/300\n",
      "\u001b[1m20/20\u001b[0m \u001b[32m━━━━━━━━━━━━━━━━━━━━\u001b[0m\u001b[37m\u001b[0m \u001b[1m0s\u001b[0m 2ms/step - accuracy: 0.9806 - auc: 0.9981 - loss: 0.0659 - val_accuracy: 0.8861 - val_auc: 0.9564 - val_loss: 0.4503\n",
      "Epoch 86/300\n",
      "\u001b[1m20/20\u001b[0m \u001b[32m━━━━━━━━━━━━━━━━━━━━\u001b[0m\u001b[37m\u001b[0m \u001b[1m0s\u001b[0m 2ms/step - accuracy: 0.9752 - auc: 0.9978 - loss: 0.0612 - val_accuracy: 0.8924 - val_auc: 0.9586 - val_loss: 0.3897\n",
      "Epoch 87/300\n",
      "\u001b[1m20/20\u001b[0m \u001b[32m━━━━━━━━━━━━━━━━━━━━\u001b[0m\u001b[37m\u001b[0m \u001b[1m0s\u001b[0m 2ms/step - accuracy: 0.9783 - auc: 0.9986 - loss: 0.0479 - val_accuracy: 0.8924 - val_auc: 0.9669 - val_loss: 0.3643\n",
      "Epoch 88/300\n",
      "\u001b[1m20/20\u001b[0m \u001b[32m━━━━━━━━━━━━━━━━━━━━\u001b[0m\u001b[37m\u001b[0m \u001b[1m0s\u001b[0m 2ms/step - accuracy: 0.9471 - auc: 0.9938 - loss: 0.1329 - val_accuracy: 0.8861 - val_auc: 0.9644 - val_loss: 0.3553\n",
      "Epoch 89/300\n",
      "\u001b[1m20/20\u001b[0m \u001b[32m━━━━━━━━━━━━━━━━━━━━\u001b[0m\u001b[37m\u001b[0m \u001b[1m0s\u001b[0m 2ms/step - accuracy: 0.9817 - auc: 0.9981 - loss: 0.0642 - val_accuracy: 0.8861 - val_auc: 0.9622 - val_loss: 0.3834\n",
      "Epoch 90/300\n",
      "\u001b[1m20/20\u001b[0m \u001b[32m━━━━━━━━━━━━━━━━━━━━\u001b[0m\u001b[37m\u001b[0m \u001b[1m0s\u001b[0m 2ms/step - accuracy: 0.9854 - auc: 0.9987 - loss: 0.0452 - val_accuracy: 0.8797 - val_auc: 0.9663 - val_loss: 0.3527\n",
      "Epoch 91/300\n",
      "\u001b[1m20/20\u001b[0m \u001b[32m━━━━━━━━━━━━━━━━━━━━\u001b[0m\u001b[37m\u001b[0m \u001b[1m0s\u001b[0m 2ms/step - accuracy: 0.9750 - auc: 0.9960 - loss: 0.0707 - val_accuracy: 0.8734 - val_auc: 0.9651 - val_loss: 0.3929\n",
      "Epoch 92/300\n",
      "\u001b[1m20/20\u001b[0m \u001b[32m━━━━━━━━━━━━━━━━━━━━\u001b[0m\u001b[37m\u001b[0m \u001b[1m0s\u001b[0m 2ms/step - accuracy: 0.9470 - auc: 0.9936 - loss: 0.1176 - val_accuracy: 0.8734 - val_auc: 0.9584 - val_loss: 0.3948\n",
      "Epoch 93/300\n",
      "\u001b[1m20/20\u001b[0m \u001b[32m━━━━━━━━━━━━━━━━━━━━\u001b[0m\u001b[37m\u001b[0m \u001b[1m0s\u001b[0m 2ms/step - accuracy: 0.9893 - auc: 0.9978 - loss: 0.0490 - val_accuracy: 0.8861 - val_auc: 0.9576 - val_loss: 0.3926\n",
      "Epoch 94/300\n",
      "\u001b[1m20/20\u001b[0m \u001b[32m━━━━━━━━━━━━━━━━━━━━\u001b[0m\u001b[37m\u001b[0m \u001b[1m0s\u001b[0m 2ms/step - accuracy: 0.9758 - auc: 0.9891 - loss: 0.1080 - val_accuracy: 0.8797 - val_auc: 0.9667 - val_loss: 0.3583\n",
      "Epoch 95/300\n",
      "\u001b[1m20/20\u001b[0m \u001b[32m━━━━━━━━━━━━━━━━━━━━\u001b[0m\u001b[37m\u001b[0m \u001b[1m0s\u001b[0m 2ms/step - accuracy: 0.9760 - auc: 0.9947 - loss: 0.0761 - val_accuracy: 0.8797 - val_auc: 0.9544 - val_loss: 0.4132\n",
      "Epoch 96/300\n",
      "\u001b[1m20/20\u001b[0m \u001b[32m━━━━━━━━━━━━━━━━━━━━\u001b[0m\u001b[37m\u001b[0m \u001b[1m0s\u001b[0m 2ms/step - accuracy: 0.9827 - auc: 0.9995 - loss: 0.0374 - val_accuracy: 0.8797 - val_auc: 0.9537 - val_loss: 0.4180\n",
      "Epoch 97/300\n",
      "\u001b[1m20/20\u001b[0m \u001b[32m━━━━━━━━━━━━━━━━━━━━\u001b[0m\u001b[37m\u001b[0m \u001b[1m0s\u001b[0m 2ms/step - accuracy: 0.9851 - auc: 0.9990 - loss: 0.0449 - val_accuracy: 0.8987 - val_auc: 0.9602 - val_loss: 0.3726\n",
      "Epoch 98/300\n",
      "\u001b[1m20/20\u001b[0m \u001b[32m━━━━━━━━━━━━━━━━━━━━\u001b[0m\u001b[37m\u001b[0m \u001b[1m0s\u001b[0m 2ms/step - accuracy: 0.9817 - auc: 0.9959 - loss: 0.0624 - val_accuracy: 0.8861 - val_auc: 0.9642 - val_loss: 0.3635\n",
      "Epoch 99/300\n",
      "\u001b[1m20/20\u001b[0m \u001b[32m━━━━━━━━━━━━━━━━━━━━\u001b[0m\u001b[37m\u001b[0m \u001b[1m0s\u001b[0m 2ms/step - accuracy: 0.9896 - auc: 0.9998 - loss: 0.0217 - val_accuracy: 0.8861 - val_auc: 0.9611 - val_loss: 0.4256\n",
      "Epoch 100/300\n",
      "\u001b[1m20/20\u001b[0m \u001b[32m━━━━━━━━━━━━━━━━━━━━\u001b[0m\u001b[37m\u001b[0m \u001b[1m0s\u001b[0m 2ms/step - accuracy: 0.9740 - auc: 0.9983 - loss: 0.0693 - val_accuracy: 0.8861 - val_auc: 0.9533 - val_loss: 0.4345\n",
      "Epoch 101/300\n",
      "\u001b[1m20/20\u001b[0m \u001b[32m━━━━━━━━━━━━━━━━━━━━\u001b[0m\u001b[37m\u001b[0m \u001b[1m0s\u001b[0m 2ms/step - accuracy: 0.9907 - auc: 0.9996 - loss: 0.0298 - val_accuracy: 0.8924 - val_auc: 0.9598 - val_loss: 0.3828\n",
      "Epoch 102/300\n",
      "\u001b[1m20/20\u001b[0m \u001b[32m━━━━━━━━━━━━━━━━━━━━\u001b[0m\u001b[37m\u001b[0m \u001b[1m0s\u001b[0m 2ms/step - accuracy: 0.9852 - auc: 0.9980 - loss: 0.0505 - val_accuracy: 0.8987 - val_auc: 0.9493 - val_loss: 0.4152\n",
      "Epoch 103/300\n",
      "\u001b[1m20/20\u001b[0m \u001b[32m━━━━━━━━━━━━━━━━━━━━\u001b[0m\u001b[37m\u001b[0m \u001b[1m0s\u001b[0m 2ms/step - accuracy: 0.9783 - auc: 0.9982 - loss: 0.0635 - val_accuracy: 0.8797 - val_auc: 0.9556 - val_loss: 0.4072\n",
      "Epoch 104/300\n",
      "\u001b[1m20/20\u001b[0m \u001b[32m━━━━━━━━━━━━━━━━━━━━\u001b[0m\u001b[37m\u001b[0m \u001b[1m0s\u001b[0m 2ms/step - accuracy: 0.9869 - auc: 0.9978 - loss: 0.0464 - val_accuracy: 0.8924 - val_auc: 0.9554 - val_loss: 0.4096\n",
      "Epoch 105/300\n",
      "\u001b[1m20/20\u001b[0m \u001b[32m━━━━━━━━━━━━━━━━━━━━\u001b[0m\u001b[37m\u001b[0m \u001b[1m0s\u001b[0m 2ms/step - accuracy: 0.9917 - auc: 0.9993 - loss: 0.0312 - val_accuracy: 0.8924 - val_auc: 0.9609 - val_loss: 0.3962\n",
      "Epoch 106/300\n",
      "\u001b[1m20/20\u001b[0m \u001b[32m━━━━━━━━━━━━━━━━━━━━\u001b[0m\u001b[37m\u001b[0m \u001b[1m0s\u001b[0m 2ms/step - accuracy: 0.9929 - auc: 0.9995 - loss: 0.0257 - val_accuracy: 0.8861 - val_auc: 0.9675 - val_loss: 0.3268\n",
      "Epoch 107/300\n",
      "\u001b[1m20/20\u001b[0m \u001b[32m━━━━━━━━━━━━━━━━━━━━\u001b[0m\u001b[37m\u001b[0m \u001b[1m0s\u001b[0m 2ms/step - accuracy: 0.9878 - auc: 0.9996 - loss: 0.0346 - val_accuracy: 0.8861 - val_auc: 0.9617 - val_loss: 0.3224\n",
      "Epoch 108/300\n",
      "\u001b[1m20/20\u001b[0m \u001b[32m━━━━━━━━━━━━━━━━━━━━\u001b[0m\u001b[37m\u001b[0m \u001b[1m0s\u001b[0m 2ms/step - accuracy: 0.9857 - auc: 0.9986 - loss: 0.0465 - val_accuracy: 0.8861 - val_auc: 0.9570 - val_loss: 0.3592\n",
      "Epoch 109/300\n",
      "\u001b[1m20/20\u001b[0m \u001b[32m━━━━━━━━━━━━━━━━━━━━\u001b[0m\u001b[37m\u001b[0m \u001b[1m0s\u001b[0m 2ms/step - accuracy: 0.9869 - auc: 0.9998 - loss: 0.0285 - val_accuracy: 0.9051 - val_auc: 0.9557 - val_loss: 0.4025\n",
      "Epoch 110/300\n",
      "\u001b[1m20/20\u001b[0m \u001b[32m━━━━━━━━━━━━━━━━━━━━\u001b[0m\u001b[37m\u001b[0m \u001b[1m0s\u001b[0m 2ms/step - accuracy: 0.9903 - auc: 0.9952 - loss: 0.0601 - val_accuracy: 0.9051 - val_auc: 0.9637 - val_loss: 0.3583\n",
      "Epoch 111/300\n",
      "\u001b[1m20/20\u001b[0m \u001b[32m━━━━━━━━━━━━━━━━━━━━\u001b[0m\u001b[37m\u001b[0m \u001b[1m0s\u001b[0m 2ms/step - accuracy: 0.9859 - auc: 0.9964 - loss: 0.0542 - val_accuracy: 0.8987 - val_auc: 0.9708 - val_loss: 0.3311\n",
      "Epoch 112/300\n",
      "\u001b[1m20/20\u001b[0m \u001b[32m━━━━━━━━━━━━━━━━━━━━\u001b[0m\u001b[37m\u001b[0m \u001b[1m0s\u001b[0m 2ms/step - accuracy: 0.9762 - auc: 0.9991 - loss: 0.0505 - val_accuracy: 0.9051 - val_auc: 0.9606 - val_loss: 0.3503\n",
      "Epoch 113/300\n",
      "\u001b[1m20/20\u001b[0m \u001b[32m━━━━━━━━━━━━━━━━━━━━\u001b[0m\u001b[37m\u001b[0m \u001b[1m0s\u001b[0m 2ms/step - accuracy: 0.9866 - auc: 0.9996 - loss: 0.0282 - val_accuracy: 0.9051 - val_auc: 0.9696 - val_loss: 0.3205\n",
      "Epoch 114/300\n",
      "\u001b[1m20/20\u001b[0m \u001b[32m━━━━━━━━━━━━━━━━━━━━\u001b[0m\u001b[37m\u001b[0m \u001b[1m0s\u001b[0m 2ms/step - accuracy: 0.9740 - auc: 0.9992 - loss: 0.0533 - val_accuracy: 0.9114 - val_auc: 0.9680 - val_loss: 0.3013\n",
      "Epoch 115/300\n",
      "\u001b[1m20/20\u001b[0m \u001b[32m━━━━━━━━━━━━━━━━━━━━\u001b[0m\u001b[37m\u001b[0m \u001b[1m0s\u001b[0m 2ms/step - accuracy: 0.9632 - auc: 0.9975 - loss: 0.1007 - val_accuracy: 0.8987 - val_auc: 0.9692 - val_loss: 0.3167\n",
      "Epoch 116/300\n",
      "\u001b[1m20/20\u001b[0m \u001b[32m━━━━━━━━━━━━━━━━━━━━\u001b[0m\u001b[37m\u001b[0m \u001b[1m0s\u001b[0m 2ms/step - accuracy: 0.9866 - auc: 0.9996 - loss: 0.0324 - val_accuracy: 0.9051 - val_auc: 0.9601 - val_loss: 0.3341\n",
      "Epoch 117/300\n",
      "\u001b[1m20/20\u001b[0m \u001b[32m━━━━━━━━━━━━━━━━━━━━\u001b[0m\u001b[37m\u001b[0m \u001b[1m0s\u001b[0m 2ms/step - accuracy: 0.9875 - auc: 0.9994 - loss: 0.0317 - val_accuracy: 0.9114 - val_auc: 0.9710 - val_loss: 0.2892\n",
      "Epoch 118/300\n",
      "\u001b[1m20/20\u001b[0m \u001b[32m━━━━━━━━━━━━━━━━━━━━\u001b[0m\u001b[37m\u001b[0m \u001b[1m0s\u001b[0m 2ms/step - accuracy: 0.9885 - auc: 0.9997 - loss: 0.0287 - val_accuracy: 0.9114 - val_auc: 0.9727 - val_loss: 0.2671\n",
      "Epoch 119/300\n",
      "\u001b[1m20/20\u001b[0m \u001b[32m━━━━━━━━━━━━━━━━━━━━\u001b[0m\u001b[37m\u001b[0m \u001b[1m0s\u001b[0m 2ms/step - accuracy: 0.9888 - auc: 0.9998 - loss: 0.0268 - val_accuracy: 0.9114 - val_auc: 0.9705 - val_loss: 0.2828\n",
      "Epoch 120/300\n",
      "\u001b[1m20/20\u001b[0m \u001b[32m━━━━━━━━━━━━━━━━━━━━\u001b[0m\u001b[37m\u001b[0m \u001b[1m0s\u001b[0m 2ms/step - accuracy: 0.9806 - auc: 0.9983 - loss: 0.0501 - val_accuracy: 0.9114 - val_auc: 0.9729 - val_loss: 0.2684\n",
      "Epoch 121/300\n",
      "\u001b[1m20/20\u001b[0m \u001b[32m━━━━━━━━━━━━━━━━━━━━\u001b[0m\u001b[37m\u001b[0m \u001b[1m0s\u001b[0m 2ms/step - accuracy: 0.9652 - auc: 0.9977 - loss: 0.0656 - val_accuracy: 0.9051 - val_auc: 0.9669 - val_loss: 0.3483\n",
      "Epoch 122/300\n",
      "\u001b[1m20/20\u001b[0m \u001b[32m━━━━━━━━━━━━━━━━━━━━\u001b[0m\u001b[37m\u001b[0m \u001b[1m0s\u001b[0m 2ms/step - accuracy: 0.9942 - auc: 0.9994 - loss: 0.0254 - val_accuracy: 0.9114 - val_auc: 0.9736 - val_loss: 0.3230\n",
      "Epoch 123/300\n",
      "\u001b[1m20/20\u001b[0m \u001b[32m━━━━━━━━━━━━━━━━━━━━\u001b[0m\u001b[37m\u001b[0m \u001b[1m0s\u001b[0m 2ms/step - accuracy: 0.9868 - auc: 0.9993 - loss: 0.0314 - val_accuracy: 0.8987 - val_auc: 0.9641 - val_loss: 0.3891\n",
      "Epoch 124/300\n",
      "\u001b[1m20/20\u001b[0m \u001b[32m━━━━━━━━━━━━━━━━━━━━\u001b[0m\u001b[37m\u001b[0m \u001b[1m0s\u001b[0m 2ms/step - accuracy: 0.9921 - auc: 0.9972 - loss: 0.0359 - val_accuracy: 0.9051 - val_auc: 0.9574 - val_loss: 0.4263\n",
      "Epoch 125/300\n",
      "\u001b[1m20/20\u001b[0m \u001b[32m━━━━━━━━━━━━━━━━━━━━\u001b[0m\u001b[37m\u001b[0m \u001b[1m0s\u001b[0m 2ms/step - accuracy: 0.9873 - auc: 0.9998 - loss: 0.0241 - val_accuracy: 0.8987 - val_auc: 0.9516 - val_loss: 0.4576\n",
      "Epoch 126/300\n",
      "\u001b[1m20/20\u001b[0m \u001b[32m━━━━━━━━━━━━━━━━━━━━\u001b[0m\u001b[37m\u001b[0m \u001b[1m0s\u001b[0m 2ms/step - accuracy: 0.9811 - auc: 0.9984 - loss: 0.0576 - val_accuracy: 0.8987 - val_auc: 0.9540 - val_loss: 0.4227\n",
      "Epoch 127/300\n",
      "\u001b[1m20/20\u001b[0m \u001b[32m━━━━━━━━━━━━━━━━━━━━\u001b[0m\u001b[37m\u001b[0m \u001b[1m0s\u001b[0m 2ms/step - accuracy: 0.9737 - auc: 0.9931 - loss: 0.1037 - val_accuracy: 0.8987 - val_auc: 0.9674 - val_loss: 0.3521\n",
      "Epoch 128/300\n",
      "\u001b[1m20/20\u001b[0m \u001b[32m━━━━━━━━━━━━━━━━━━━━\u001b[0m\u001b[37m\u001b[0m \u001b[1m0s\u001b[0m 2ms/step - accuracy: 0.9858 - auc: 0.9992 - loss: 0.0370 - val_accuracy: 0.8987 - val_auc: 0.9532 - val_loss: 0.4230\n",
      "Epoch 129/300\n",
      "\u001b[1m20/20\u001b[0m \u001b[32m━━━━━━━━━━━━━━━━━━━━\u001b[0m\u001b[37m\u001b[0m \u001b[1m0s\u001b[0m 2ms/step - accuracy: 0.9829 - auc: 0.9993 - loss: 0.0427 - val_accuracy: 0.8924 - val_auc: 0.9659 - val_loss: 0.3695\n",
      "Epoch 130/300\n",
      "\u001b[1m20/20\u001b[0m \u001b[32m━━━━━━━━━━━━━━━━━━━━\u001b[0m\u001b[37m\u001b[0m \u001b[1m0s\u001b[0m 2ms/step - accuracy: 0.9918 - auc: 0.9996 - loss: 0.0252 - val_accuracy: 0.8797 - val_auc: 0.9691 - val_loss: 0.3879\n",
      "Epoch 131/300\n",
      "\u001b[1m20/20\u001b[0m \u001b[32m━━━━━━━━━━━━━━━━━━━━\u001b[0m\u001b[37m\u001b[0m \u001b[1m0s\u001b[0m 2ms/step - accuracy: 0.9762 - auc: 0.9991 - loss: 0.0431 - val_accuracy: 0.8987 - val_auc: 0.9708 - val_loss: 0.3586\n",
      "Epoch 132/300\n",
      "\u001b[1m20/20\u001b[0m \u001b[32m━━━━━━━━━━━━━━━━━━━━\u001b[0m\u001b[37m\u001b[0m \u001b[1m0s\u001b[0m 2ms/step - accuracy: 0.9773 - auc: 0.9977 - loss: 0.0590 - val_accuracy: 0.8924 - val_auc: 0.9629 - val_loss: 0.3565\n",
      "Epoch 133/300\n",
      "\u001b[1m20/20\u001b[0m \u001b[32m━━━━━━━━━━━━━━━━━━━━\u001b[0m\u001b[37m\u001b[0m \u001b[1m0s\u001b[0m 2ms/step - accuracy: 0.9849 - auc: 0.9992 - loss: 0.0350 - val_accuracy: 0.8924 - val_auc: 0.9631 - val_loss: 0.3447\n",
      "Epoch 134/300\n",
      "\u001b[1m20/20\u001b[0m \u001b[32m━━━━━━━━━━━━━━━━━━━━\u001b[0m\u001b[37m\u001b[0m \u001b[1m0s\u001b[0m 2ms/step - accuracy: 0.9834 - auc: 0.9994 - loss: 0.0345 - val_accuracy: 0.8734 - val_auc: 0.9540 - val_loss: 0.4296\n",
      "Epoch 135/300\n",
      "\u001b[1m20/20\u001b[0m \u001b[32m━━━━━━━━━━━━━━━━━━━━\u001b[0m\u001b[37m\u001b[0m \u001b[1m0s\u001b[0m 2ms/step - accuracy: 0.9823 - auc: 0.9973 - loss: 0.0472 - val_accuracy: 0.8924 - val_auc: 0.9682 - val_loss: 0.3521\n",
      "Epoch 136/300\n",
      "\u001b[1m20/20\u001b[0m \u001b[32m━━━━━━━━━━━━━━━━━━━━\u001b[0m\u001b[37m\u001b[0m \u001b[1m0s\u001b[0m 2ms/step - accuracy: 0.9960 - auc: 0.9999 - loss: 0.0211 - val_accuracy: 0.8987 - val_auc: 0.9704 - val_loss: 0.3586\n",
      "Epoch 137/300\n",
      "\u001b[1m20/20\u001b[0m \u001b[32m━━━━━━━━━━━━━━━━━━━━\u001b[0m\u001b[37m\u001b[0m \u001b[1m0s\u001b[0m 2ms/step - accuracy: 0.9838 - auc: 0.9987 - loss: 0.0395 - val_accuracy: 0.8924 - val_auc: 0.9708 - val_loss: 0.3653\n",
      "Epoch 138/300\n",
      "\u001b[1m20/20\u001b[0m \u001b[32m━━━━━━━━━━━━━━━━━━━━\u001b[0m\u001b[37m\u001b[0m \u001b[1m0s\u001b[0m 2ms/step - accuracy: 0.9971 - auc: 0.9999 - loss: 0.0174 - val_accuracy: 0.9051 - val_auc: 0.9729 - val_loss: 0.3523\n",
      "Epoch 139/300\n",
      "\u001b[1m20/20\u001b[0m \u001b[32m━━━━━━━━━━━━━━━━━━━━\u001b[0m\u001b[37m\u001b[0m \u001b[1m0s\u001b[0m 2ms/step - accuracy: 0.9959 - auc: 0.9997 - loss: 0.0174 - val_accuracy: 0.9051 - val_auc: 0.9603 - val_loss: 0.3823\n",
      "Epoch 140/300\n",
      "\u001b[1m20/20\u001b[0m \u001b[32m━━━━━━━━━━━━━━━━━━━━\u001b[0m\u001b[37m\u001b[0m \u001b[1m0s\u001b[0m 2ms/step - accuracy: 0.9915 - auc: 0.9994 - loss: 0.0315 - val_accuracy: 0.9051 - val_auc: 0.9662 - val_loss: 0.3750\n",
      "Epoch 141/300\n",
      "\u001b[1m20/20\u001b[0m \u001b[32m━━━━━━━━━━━━━━━━━━━━\u001b[0m\u001b[37m\u001b[0m \u001b[1m0s\u001b[0m 2ms/step - accuracy: 0.9909 - auc: 0.9999 - loss: 0.0192 - val_accuracy: 0.8861 - val_auc: 0.9663 - val_loss: 0.3802\n",
      "Epoch 142/300\n",
      "\u001b[1m20/20\u001b[0m \u001b[32m━━━━━━━━━━━━━━━━━━━━\u001b[0m\u001b[37m\u001b[0m \u001b[1m0s\u001b[0m 2ms/step - accuracy: 0.9710 - auc: 0.9977 - loss: 0.0641 - val_accuracy: 0.8861 - val_auc: 0.9579 - val_loss: 0.3978\n",
      "Epoch 143/300\n",
      "\u001b[1m20/20\u001b[0m \u001b[32m━━━━━━━━━━━━━━━━━━━━\u001b[0m\u001b[37m\u001b[0m \u001b[1m0s\u001b[0m 2ms/step - accuracy: 0.9832 - auc: 0.9971 - loss: 0.0492 - val_accuracy: 0.8671 - val_auc: 0.9713 - val_loss: 0.3659\n",
      "Epoch 144/300\n",
      "\u001b[1m20/20\u001b[0m \u001b[32m━━━━━━━━━━━━━━━━━━━━\u001b[0m\u001b[37m\u001b[0m \u001b[1m0s\u001b[0m 2ms/step - accuracy: 0.9912 - auc: 0.9991 - loss: 0.0320 - val_accuracy: 0.8861 - val_auc: 0.9775 - val_loss: 0.3066\n",
      "Epoch 145/300\n",
      "\u001b[1m20/20\u001b[0m \u001b[32m━━━━━━━━━━━━━━━━━━━━\u001b[0m\u001b[37m\u001b[0m \u001b[1m0s\u001b[0m 2ms/step - accuracy: 0.9894 - auc: 0.9996 - loss: 0.0286 - val_accuracy: 0.8797 - val_auc: 0.9658 - val_loss: 0.3522\n",
      "Epoch 146/300\n",
      "\u001b[1m20/20\u001b[0m \u001b[32m━━━━━━━━━━━━━━━━━━━━\u001b[0m\u001b[37m\u001b[0m \u001b[1m0s\u001b[0m 2ms/step - accuracy: 0.9912 - auc: 0.9987 - loss: 0.0283 - val_accuracy: 0.8924 - val_auc: 0.9623 - val_loss: 0.4058\n",
      "Epoch 147/300\n",
      "\u001b[1m20/20\u001b[0m \u001b[32m━━━━━━━━━━━━━━━━━━━━\u001b[0m\u001b[37m\u001b[0m \u001b[1m0s\u001b[0m 2ms/step - accuracy: 0.9875 - auc: 0.9995 - loss: 0.0320 - val_accuracy: 0.8797 - val_auc: 0.9619 - val_loss: 0.4093\n",
      "Epoch 148/300\n",
      "\u001b[1m20/20\u001b[0m \u001b[32m━━━━━━━━━━━━━━━━━━━━\u001b[0m\u001b[37m\u001b[0m \u001b[1m0s\u001b[0m 2ms/step - accuracy: 0.9886 - auc: 0.9997 - loss: 0.0284 - val_accuracy: 0.8861 - val_auc: 0.9662 - val_loss: 0.3566\n",
      "Epoch 149/300\n",
      "\u001b[1m20/20\u001b[0m \u001b[32m━━━━━━━━━━━━━━━━━━━━\u001b[0m\u001b[37m\u001b[0m \u001b[1m0s\u001b[0m 2ms/step - accuracy: 0.9929 - auc: 0.9988 - loss: 0.0361 - val_accuracy: 0.8987 - val_auc: 0.9690 - val_loss: 0.3196\n",
      "Epoch 150/300\n",
      "\u001b[1m20/20\u001b[0m \u001b[32m━━━━━━━━━━━━━━━━━━━━\u001b[0m\u001b[37m\u001b[0m \u001b[1m0s\u001b[0m 2ms/step - accuracy: 0.9943 - auc: 0.9998 - loss: 0.0187 - val_accuracy: 0.9051 - val_auc: 0.9560 - val_loss: 0.3768\n",
      "Epoch 151/300\n",
      "\u001b[1m20/20\u001b[0m \u001b[32m━━━━━━━━━━━━━━━━━━━━\u001b[0m\u001b[37m\u001b[0m \u001b[1m0s\u001b[0m 2ms/step - accuracy: 0.9898 - auc: 0.9987 - loss: 0.0406 - val_accuracy: 0.8861 - val_auc: 0.9594 - val_loss: 0.3433\n",
      "Epoch 152/300\n",
      "\u001b[1m20/20\u001b[0m \u001b[32m━━━━━━━━━━━━━━━━━━━━\u001b[0m\u001b[37m\u001b[0m \u001b[1m0s\u001b[0m 2ms/step - accuracy: 0.9911 - auc: 0.9999 - loss: 0.0208 - val_accuracy: 0.8797 - val_auc: 0.9678 - val_loss: 0.3239\n",
      "Epoch 153/300\n",
      "\u001b[1m20/20\u001b[0m \u001b[32m━━━━━━━━━━━━━━━━━━━━\u001b[0m\u001b[37m\u001b[0m \u001b[1m0s\u001b[0m 2ms/step - accuracy: 0.9813 - auc: 0.9933 - loss: 0.0838 - val_accuracy: 0.8987 - val_auc: 0.9700 - val_loss: 0.3076\n",
      "Epoch 154/300\n",
      "\u001b[1m20/20\u001b[0m \u001b[32m━━━━━━━━━━━━━━━━━━━━\u001b[0m\u001b[37m\u001b[0m \u001b[1m0s\u001b[0m 2ms/step - accuracy: 0.9878 - auc: 0.9992 - loss: 0.0414 - val_accuracy: 0.9114 - val_auc: 0.9698 - val_loss: 0.3015\n",
      "Epoch 155/300\n",
      "\u001b[1m20/20\u001b[0m \u001b[32m━━━━━━━━━━━━━━━━━━━━\u001b[0m\u001b[37m\u001b[0m \u001b[1m0s\u001b[0m 2ms/step - accuracy: 0.9762 - auc: 0.9989 - loss: 0.0606 - val_accuracy: 0.9051 - val_auc: 0.9649 - val_loss: 0.3477\n",
      "Epoch 156/300\n",
      "\u001b[1m20/20\u001b[0m \u001b[32m━━━━━━━━━━━━━━━━━━━━\u001b[0m\u001b[37m\u001b[0m \u001b[1m0s\u001b[0m 2ms/step - accuracy: 0.9775 - auc: 0.9970 - loss: 0.0536 - val_accuracy: 0.9177 - val_auc: 0.9688 - val_loss: 0.3141\n",
      "Epoch 157/300\n",
      "\u001b[1m20/20\u001b[0m \u001b[32m━━━━━━━━━━━━━━━━━━━━\u001b[0m\u001b[37m\u001b[0m \u001b[1m0s\u001b[0m 2ms/step - accuracy: 0.9789 - auc: 0.9993 - loss: 0.0411 - val_accuracy: 0.9051 - val_auc: 0.9689 - val_loss: 0.3287\n",
      "Epoch 158/300\n",
      "\u001b[1m20/20\u001b[0m \u001b[32m━━━━━━━━━━━━━━━━━━━━\u001b[0m\u001b[37m\u001b[0m \u001b[1m0s\u001b[0m 2ms/step - accuracy: 0.9871 - auc: 0.9997 - loss: 0.0344 - val_accuracy: 0.8924 - val_auc: 0.9690 - val_loss: 0.3267\n",
      "Epoch 159/300\n",
      "\u001b[1m20/20\u001b[0m \u001b[32m━━━━━━━━━━━━━━━━━━━━\u001b[0m\u001b[37m\u001b[0m \u001b[1m0s\u001b[0m 2ms/step - accuracy: 0.9922 - auc: 0.9996 - loss: 0.0270 - val_accuracy: 0.8924 - val_auc: 0.9694 - val_loss: 0.3358\n",
      "Epoch 160/300\n",
      "\u001b[1m20/20\u001b[0m \u001b[32m━━━━━━━━━━━━━━━━━━━━\u001b[0m\u001b[37m\u001b[0m \u001b[1m0s\u001b[0m 2ms/step - accuracy: 0.9885 - auc: 0.9996 - loss: 0.0296 - val_accuracy: 0.8924 - val_auc: 0.9668 - val_loss: 0.3669\n",
      "Epoch 161/300\n",
      "\u001b[1m20/20\u001b[0m \u001b[32m━━━━━━━━━━━━━━━━━━━━\u001b[0m\u001b[37m\u001b[0m \u001b[1m0s\u001b[0m 2ms/step - accuracy: 0.9665 - auc: 0.9962 - loss: 0.0732 - val_accuracy: 0.8987 - val_auc: 0.9645 - val_loss: 0.3925\n",
      "Epoch 162/300\n",
      "\u001b[1m20/20\u001b[0m \u001b[32m━━━━━━━━━━━━━━━━━━━━\u001b[0m\u001b[37m\u001b[0m \u001b[1m0s\u001b[0m 2ms/step - accuracy: 0.9947 - auc: 0.9998 - loss: 0.0201 - val_accuracy: 0.8987 - val_auc: 0.9659 - val_loss: 0.3627\n",
      "Epoch 163/300\n",
      "\u001b[1m20/20\u001b[0m \u001b[32m━━━━━━━━━━━━━━━━━━━━\u001b[0m\u001b[37m\u001b[0m \u001b[1m0s\u001b[0m 2ms/step - accuracy: 0.9875 - auc: 0.9975 - loss: 0.0458 - val_accuracy: 0.9051 - val_auc: 0.9633 - val_loss: 0.3415\n",
      "Epoch 164/300\n",
      "\u001b[1m20/20\u001b[0m \u001b[32m━━━━━━━━━━━━━━━━━━━━\u001b[0m\u001b[37m\u001b[0m \u001b[1m0s\u001b[0m 2ms/step - accuracy: 0.9760 - auc: 0.9953 - loss: 0.0616 - val_accuracy: 0.8987 - val_auc: 0.9653 - val_loss: 0.3281\n",
      "Epoch 165/300\n",
      "\u001b[1m20/20\u001b[0m \u001b[32m━━━━━━━━━━━━━━━━━━━━\u001b[0m\u001b[37m\u001b[0m \u001b[1m0s\u001b[0m 2ms/step - accuracy: 0.9763 - auc: 0.9986 - loss: 0.0541 - val_accuracy: 0.9051 - val_auc: 0.9736 - val_loss: 0.3044\n",
      "Epoch 166/300\n",
      "\u001b[1m20/20\u001b[0m \u001b[32m━━━━━━━━━━━━━━━━━━━━\u001b[0m\u001b[37m\u001b[0m \u001b[1m0s\u001b[0m 2ms/step - accuracy: 0.9913 - auc: 0.9997 - loss: 0.0224 - val_accuracy: 0.9051 - val_auc: 0.9683 - val_loss: 0.3319\n",
      "Epoch 167/300\n",
      "\u001b[1m20/20\u001b[0m \u001b[32m━━━━━━━━━━━━━━━━━━━━\u001b[0m\u001b[37m\u001b[0m \u001b[1m0s\u001b[0m 2ms/step - accuracy: 0.9919 - auc: 0.9999 - loss: 0.0227 - val_accuracy: 0.8987 - val_auc: 0.9697 - val_loss: 0.3109\n",
      "Epoch 168/300\n",
      "\u001b[1m20/20\u001b[0m \u001b[32m━━━━━━━━━━━━━━━━━━━━\u001b[0m\u001b[37m\u001b[0m \u001b[1m0s\u001b[0m 2ms/step - accuracy: 0.9859 - auc: 0.9991 - loss: 0.0429 - val_accuracy: 0.8987 - val_auc: 0.9637 - val_loss: 0.3371\n",
      "Epoch 169/300\n",
      "\u001b[1m20/20\u001b[0m \u001b[32m━━━━━━━━━━━━━━━━━━━━\u001b[0m\u001b[37m\u001b[0m \u001b[1m0s\u001b[0m 2ms/step - accuracy: 0.9955 - auc: 0.9983 - loss: 0.0219 - val_accuracy: 0.8924 - val_auc: 0.9690 - val_loss: 0.3509\n",
      "Epoch 170/300\n",
      "\u001b[1m20/20\u001b[0m \u001b[32m━━━━━━━━━━━━━━━━━━━━\u001b[0m\u001b[37m\u001b[0m \u001b[1m0s\u001b[0m 2ms/step - accuracy: 0.9896 - auc: 0.9995 - loss: 0.0338 - val_accuracy: 0.8924 - val_auc: 0.9688 - val_loss: 0.3543\n",
      "Epoch 171/300\n",
      "\u001b[1m20/20\u001b[0m \u001b[32m━━━━━━━━━━━━━━━━━━━━\u001b[0m\u001b[37m\u001b[0m \u001b[1m0s\u001b[0m 2ms/step - accuracy: 0.9813 - auc: 0.9981 - loss: 0.0518 - val_accuracy: 0.9114 - val_auc: 0.9715 - val_loss: 0.3210\n",
      "Epoch 172/300\n",
      "\u001b[1m20/20\u001b[0m \u001b[32m━━━━━━━━━━━━━━━━━━━━\u001b[0m\u001b[37m\u001b[0m \u001b[1m0s\u001b[0m 2ms/step - accuracy: 0.9895 - auc: 0.9996 - loss: 0.0258 - val_accuracy: 0.9051 - val_auc: 0.9716 - val_loss: 0.2919\n",
      "Epoch 173/300\n",
      "\u001b[1m20/20\u001b[0m \u001b[32m━━━━━━━━━━━━━━━━━━━━\u001b[0m\u001b[37m\u001b[0m \u001b[1m0s\u001b[0m 2ms/step - accuracy: 0.9898 - auc: 0.9998 - loss: 0.0229 - val_accuracy: 0.8924 - val_auc: 0.9659 - val_loss: 0.3629\n",
      "Epoch 174/300\n",
      "\u001b[1m20/20\u001b[0m \u001b[32m━━━━━━━━━━━━━━━━━━━━\u001b[0m\u001b[37m\u001b[0m \u001b[1m0s\u001b[0m 2ms/step - accuracy: 0.9737 - auc: 0.9989 - loss: 0.0696 - val_accuracy: 0.8924 - val_auc: 0.9684 - val_loss: 0.3123\n",
      "Epoch 175/300\n",
      "\u001b[1m20/20\u001b[0m \u001b[32m━━━━━━━━━━━━━━━━━━━━\u001b[0m\u001b[37m\u001b[0m \u001b[1m0s\u001b[0m 2ms/step - accuracy: 0.9912 - auc: 0.9997 - loss: 0.0221 - val_accuracy: 0.8861 - val_auc: 0.9684 - val_loss: 0.3361\n",
      "Epoch 176/300\n",
      "\u001b[1m20/20\u001b[0m \u001b[32m━━━━━━━━━━━━━━━━━━━━\u001b[0m\u001b[37m\u001b[0m \u001b[1m0s\u001b[0m 2ms/step - accuracy: 0.9949 - auc: 0.9997 - loss: 0.0196 - val_accuracy: 0.8987 - val_auc: 0.9691 - val_loss: 0.3355\n",
      "Epoch 177/300\n",
      "\u001b[1m20/20\u001b[0m \u001b[32m━━━━━━━━━━━━━━━━━━━━\u001b[0m\u001b[37m\u001b[0m \u001b[1m0s\u001b[0m 2ms/step - accuracy: 0.9898 - auc: 0.9996 - loss: 0.0318 - val_accuracy: 0.8924 - val_auc: 0.9656 - val_loss: 0.3921\n",
      "Epoch 178/300\n",
      "\u001b[1m20/20\u001b[0m \u001b[32m━━━━━━━━━━━━━━━━━━━━\u001b[0m\u001b[37m\u001b[0m \u001b[1m0s\u001b[0m 2ms/step - accuracy: 0.9951 - auc: 0.9997 - loss: 0.0179 - val_accuracy: 0.8734 - val_auc: 0.9672 - val_loss: 0.3678\n",
      "Epoch 178: early stopping\n",
      "Restoring model weights from the end of the best epoch: 118.\n"
     ]
    }
   ],
   "source": [
    "# Modeli eğitelim\n",
    "history = model.fit(\n",
    "    X_train_scaled, y_train,\n",
    "    validation_data=(X_val_scaled, y_val),\n",
    "    epochs=300,\n",
    "    batch_size=32,\n",
    "    callbacks=[early_stopping]\n",
    ")\n"
   ]
  },
  {
   "cell_type": "code",
   "execution_count": 40,
   "id": "2e96cc7e-2d69-40e8-a281-c8b88524f5d0",
   "metadata": {},
   "outputs": [
    {
     "data": {
      "image/png": "[encoded data removed]",
      "text/plain": [
       "<Figure size 640x480 with 1 Axes>"
      ]
     },
     "metadata": {},
     "output_type": "display_data"
    },
    {
     "data": {
      "image/png": "[encoded data removed]",
      "text/plain": [
       "<Figure size 640x480 with 1 Axes>"
      ]
     },
     "metadata": {},
     "output_type": "display_data"
    }
   ],
   "source": [
    "import matplotlib.pyplot as plt\n",
    "\n",
    "# Eğitim ve doğrulama kayıp değerlerini çizelim\n",
    "plt.plot(history.history['loss'], label='Eğitim Kaybı')\n",
    "plt.plot(history.history['val_loss'], label='Doğrulama Kaybı')\n",
    "plt.legend()\n",
    "plt.xlabel('Epoch')\n",
    "plt.ylabel('Kayıp')\n",
    "plt.title('Eğitim ve Doğrulama Kaybı')\n",
    "plt.show()\n",
    "\n",
    "# Eğitim ve doğrulama doğruluk değerlerini çizelim\n",
    "plt.plot(history.history['accuracy'], label='Eğitim Doğruluğu')\n",
    "plt.plot(history.history['val_accuracy'], label='Doğrulama Doğruluğu')\n",
    "plt.legend()\n",
    "plt.xlabel('Epoch')\n",
    "plt.ylabel('Doğruluk')\n",
    "plt.title('Eğitim ve Doğrulama Doğruluğu')\n",
    "plt.show()\n"
   ]
  },
  {
   "cell_type": "code",
   "execution_count": 42,
   "id": "db437303-e235-45a5-97ea-523839636acf",
   "metadata": {},
   "outputs": [
    {
     "name": "stdout",
     "output_type": "stream",
     "text": [
      "\u001b[1m5/5\u001b[0m \u001b[32m━━━━━━━━━━━━━━━━━━━━\u001b[0m\u001b[37m\u001b[0m \u001b[1m0s\u001b[0m 7ms/step \n"
     ]
    }
   ],
   "source": [
    "# Doğrulama seti üzerinde tahmin yapalım\n",
    "y_val_pred_probs = model.predict(X_val_scaled)\n",
    "y_val_pred = (y_val_pred_probs >= 0.5).astype(int).flatten()\n"
   ]
  },
  {
   "cell_type": "code",
   "execution_count": 44,
   "id": "910878f6-0689-4b56-a7ee-f7b1767be8f1",
   "metadata": {},
   "outputs": [
    {
     "name": "stdout",
     "output_type": "stream",
     "text": [
      "\n",
      "Doğrulama seti sınıflandırma raporu:\n",
      "              precision    recall  f1-score   support\n",
      "\n",
      "           0       0.92      0.89      0.91        75\n",
      "           1       0.91      0.93      0.92        83\n",
      "\n",
      "    accuracy                           0.91       158\n",
      "   macro avg       0.91      0.91      0.91       158\n",
      "weighted avg       0.91      0.91      0.91       158\n",
      "\n",
      "F1 Skoru: 0.9167\n"
     ]
    }
   ],
   "source": [
    "from sklearn.metrics import classification_report, f1_score\n",
    "\n",
    "# Sınıflandırma raporu\n",
    "print(\"\\nDoğrulama seti sınıflandırma raporu:\")\n",
    "print(classification_report(y_val, y_val_pred))\n",
    "\n",
    "# F1 Skoru\n",
    "f1 = f1_score(y_val, y_val_pred)\n",
    "print(f\"F1 Skoru: {f1:.4f}\")\n"
   ]
  },
  {
   "cell_type": "code",
   "execution_count": 46,
   "id": "33ea2151-9661-4738-a32a-f62548de3fcb",
   "metadata": {},
   "outputs": [
    {
     "name": "stdout",
     "output_type": "stream",
     "text": [
      "ROC AUC Skoru: 0.9757\n"
     ]
    }
   ],
   "source": [
    "from sklearn.metrics import roc_auc_score\n",
    "\n",
    "# ROC AUC Skoru\n",
    "auc_score = roc_auc_score(y_val, y_val_pred_probs)\n",
    "print(f\"ROC AUC Skoru: {auc_score:.4f}\")\n"
   ]
  },
  {
   "cell_type": "code",
   "execution_count": 48,
   "id": "d06a098f-9a01-4f9a-ae07-f35a52039048",
   "metadata": {},
   "outputs": [],
   "source": [
    "# Test verisini hazırlayalım\n",
    "X_test = test_data.drop(['id'], axis=1)\n",
    "\n",
    "# X_test'in sütunlarını X_train ile hizalayalım\n",
    "missing_cols_in_test = set(X_train.columns) - set(X_test.columns)\n",
    "for col in missing_cols_in_test:\n",
    "    X_test[col] = 0\n",
    "\n",
    "# Sütun sırasını aynı hale getirelim\n",
    "X_test = X_test[X_train.columns]\n",
    "\n",
    "# Test verisini ölçekleyelim\n",
    "X_test_scaled = scaler.transform(X_test)\n"
   ]
  },
  {
   "cell_type": "code",
   "execution_count": 50,
   "id": "beff1471-a12b-4a91-ba84-095ad6c265dd",
   "metadata": {},
   "outputs": [
    {
     "name": "stdout",
     "output_type": "stream",
     "text": [
      "\u001b[1m10/10\u001b[0m \u001b[32m━━━━━━━━━━━━━━━━━━━━\u001b[0m\u001b[37m\u001b[0m \u001b[1m0s\u001b[0m 422us/step\n"
     ]
    }
   ],
   "source": [
    "# Tahmin yapalım\n",
    "y_test_pred_probs = model.predict(X_test_scaled)\n",
    "y_test_pred = (y_test_pred_probs >= 0.5).astype(int).flatten()\n",
    "y_test_pred_bool = y_test_pred.astype(bool)\n"
   ]
  },
  {
   "cell_type": "code",
   "execution_count": 52,
   "id": "329ced2f-af04-481f-89b4-794d2e6fe397",
   "metadata": {},
   "outputs": [
    {
     "name": "stdout",
     "output_type": "stream",
     "text": [
      "\n",
      "Tahminler sample_submission.csv dosyasına kaydedildi.\n"
     ]
    }
   ],
   "source": [
    "# Sonuçları hazırlayalım\n",
    "submission = pd.DataFrame({\n",
    "    'id': test_data['id'],\n",
    "    'value_increased': y_test_pred_bool\n",
    "})\n",
    "\n",
    "# CSV dosyasına kaydedelim\n",
    "submission.to_csv('sample_submission.csv', index=False)\n",
    "\n",
    "print(\"\\nTahminler sample_submission.csv dosyasına kaydedildi.\")\n"
   ]
  },
  {
   "cell_type": "code",
   "execution_count": null,
   "id": "a26500f9-9c3e-4f26-abe1-3e3705896524",
   "metadata": {},
   "outputs": [],
   "source": [
    "#train_data.to_csv('veri.csv', index=True)"
   ]
  },
  {
   "cell_type": "code",
   "execution_count": null,
   "id": "6477f2d0-8e1b-438c-8cbb-3dd0fd38e1cd",
   "metadata": {},
   "outputs": [],
   "source": [
    "#test_data.to_csv('veritest.csv', index=True)"
   ]
  },
  {
   "cell_type": "code",
   "execution_count": null,
   "id": "59af3228-873e-48bc-a080-398bc5ece72a",
   "metadata": {},
   "outputs": [],
   "source": []
  },
  {
   "cell_type": "code",
   "execution_count": null,
   "id": "39df175b-5ef4-494d-a905-ab45c2545d9b",
   "metadata": {},
   "outputs": [],
   "source": []
  },
  {
   "cell_type": "code",
   "execution_count": null,
   "id": "5c9e22e2-01f6-4fc6-852a-f96a2cdf0765",
   "metadata": {},
   "outputs": [],
   "source": []
  },
  {
   "cell_type": "code",
   "execution_count": null,
   "id": "85c73592-702a-4c1c-8541-296374736edc",
   "metadata": {},
   "outputs": [],
   "source": []
  }
 ],
 "metadata": {
  "kernelspec": {
   "display_name": "Python 3 (ipykernel)",
   "language": "python",
   "name": "python3"
  },
  "language_info": {
   "codemirror_mode": {
    "name": "ipython",
    "version": 3
   },
   "file_extension": ".py",
   "mimetype": "text/x-python",
   "name": "python",
   "nbconvert_exporter": "python",
   "pygments_lexer": "ipython3",
   "version": "3.12.3"
  }
 },
 "nbformat": 4,
 "nbformat_minor": 5
}
